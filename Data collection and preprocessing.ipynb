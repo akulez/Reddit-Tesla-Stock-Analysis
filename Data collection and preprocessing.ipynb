{
 "cells": [
  {
   "cell_type": "code",
   "execution_count": null,
   "id": "initial_id",
   "metadata": {
    "collapsed": true
   },
   "outputs": [],
   "source": [
    "import praw\n",
    "reddit = praw.Reddit(\n",
    "    client_id=\"gRHEFX9H4lWzqR3HTNI-xg\",\n",
    "    client_secret=\"QFt-7pifzSBA1eNkG6NLnuK7zOZJrQ\",\n",
    "    user_agent=\"Assignment1_CityU\",\n",
    ")"
   ]
  },
  {
   "cell_type": "code",
   "execution_count": null,
   "outputs": [],
   "source": [
    "import pandas as pd\n",
    "\n",
    "# Create empty lists to store data\n",
    "combined_data = []\n",
    "\n",
    "posts = reddit.subreddit('elonmusk').top(limit=None)\n",
    "\n",
    "# Collect data from posts\n",
    "for post in posts:\n",
    "    post_data = {\n",
    "        'Title': post.title,\n",
    "        'Post ID': post.id,\n",
    "        'Author': str(post.author),\n",
    "        'URL': post.url,\n",
    "        'Score': post.score,\n",
    "        'Comment Count': post.num_comments,\n",
    "        'Created': post.created_utc,\n",
    "    }\n",
    "    combined_data.append(post_data)\n",
    "\n",
    "    # Collect data from comments for the current post\n",
    "    for comment in post.comments.list():\n",
    "        if isinstance(comment, praw.models.Comment):\n",
    "            comment_data = {\n",
    "                'Title': post.title,  # Use the post's title for the comment\n",
    "                'Post ID': post.id,  # Use the post's ID for the comment\n",
    "                'Author': str(comment.author),\n",
    "                'URL': post.url,  # Use the post's URL for the comment\n",
    "                'Score': comment.score,\n",
    "                'Comment Count': 0,  # Comments on comments are not tracked\n",
    "                'Created': comment.created_utc,\n",
    "                'Comment Body': comment.body,\n",
    "                'Comment Author': str(comment.author),\n",
    "            }\n",
    "            combined_data.append(comment_data)\n",
    "\n",
    "# Create a DataFrame from the collected data\n",
    "df = pd.DataFrame(combined_data)"
   ],
   "metadata": {
    "collapsed": false
   },
   "id": "dff38b8ef4d8f1a5"
  },
  {
   "cell_type": "code",
   "execution_count": null,
   "outputs": [],
   "source": [
    "df"
   ],
   "metadata": {
    "collapsed": false
   },
   "id": "c58aa8bc4d2b8397"
  },
  {
   "cell_type": "code",
   "execution_count": null,
   "outputs": [],
   "source": [
    "df.to_csv('reddit_data.csv', index=False)"
   ],
   "metadata": {
    "collapsed": false
   },
   "id": "4f7fa8bc534e157"
  },
  {
   "cell_type": "code",
   "execution_count": null,
   "outputs": [],
   "source": [
    "! pip install langdetect"
   ],
   "metadata": {
    "collapsed": false
   },
   "id": "926c2a7b2f459b8d"
  },
  {
   "cell_type": "code",
   "execution_count": null,
   "outputs": [],
   "source": [
    "import langdetect # Import the language detection function\n",
    "\n",
    "# Load the existing DataFrame from a CSV file\n",
    "df = pd.read_csv('reddit_data.csv')\n",
    "# Create a function to detect the language of a text\n",
    "def detect_language(text):\n",
    "    try:\n",
    "        return langdetect.detect(text)\n",
    "    except:\n",
    "        return 'unknown'  # Handle cases where language detection fails\n",
    "\n",
    "# Apply the language detection function to the 'Title' and 'Comment Body' columns\n",
    "df['Title Language'] = df['Title'].apply(detect_language)\n",
    "df['Comment Language'] = df['Comment Body'].apply(detect_language)\n",
    "\n",
    "# Filter only English posts and comments\n",
    "english_df = df[(df['Title Language'] == 'en') & (df['Comment Language'] == 'en')]\n",
    "\n",
    "# Drop the language detection columns\n",
    "english_df.drop(['Title Language', 'Comment Language'], axis=1, inplace=True)\n",
    "\n",
    "# Save the DataFrame with English posts and comments to a new CSV file\n",
    "english_df.to_csv('english_reddit_data.csv', index=False)"
   ],
   "metadata": {
    "collapsed": false
   },
   "id": "306188da7e1f1840"
  },
  {
   "cell_type": "code",
   "execution_count": 31,
   "outputs": [],
   "source": [
    "import pandas as pd\n",
    "# Load the DataFrame with English posts and comments\n",
    "english_df = pd.read_csv('english_reddit_data.csv')\n",
    "\n",
    "# Convert the 'Created' column to a datetime format\n",
    "english_df['Created'] = pd.to_datetime(english_df['Created'], unit='s')\n",
    "english_df['Created'] = pd.to_datetime(english_df['Created'], format='%Y-%m-%d %H:%M:%S')"
   ],
   "metadata": {
    "collapsed": false,
    "ExecuteTime": {
     "end_time": "2023-10-09T12:39:06.483422Z",
     "start_time": "2023-10-09T12:39:06.337291Z"
    }
   },
   "id": "713b55d831737c27"
  },
  {
   "cell_type": "code",
   "execution_count": 32,
   "outputs": [
    {
     "data": {
      "text/plain": "                                                   Title Post ID  \\\n0                 Elon Musk Leaves Presidential Councils  6epd1s   \n1                 Elon Musk Leaves Presidential Councils  6epd1s   \n2                 Elon Musk Leaves Presidential Councils  6epd1s   \n3                 Elon Musk Leaves Presidential Councils  6epd1s   \n4                 Elon Musk Leaves Presidential Councils  6epd1s   \n...                                                  ...     ...   \n50969  Opinionated politician opens her mouth and get...  u4dltu   \n50970  Opinionated politician opens her mouth and get...  u4dltu   \n50971  Opinionated politician opens her mouth and get...  u4dltu   \n50972  Opinionated politician opens her mouth and get...  u4dltu   \n50973  Opinionated politician opens her mouth and get...  u4dltu   \n\n                     Author  \\\n0                Litterball   \n1                  suredoit   \n2      RiseoftheTrumpwaffen   \n3                 mirrorsaw   \n4                  jonb3838   \n...                     ...   \n50969                   NaN   \n50970                   NaN   \n50971                   NaN   \n50972          mrprogrampro   \n50973                   NaN   \n\n                                                     URL  Score  \\\n0      https://twitter.com/elonmusk/status/8703699158...   9711   \n1      https://twitter.com/elonmusk/status/8703699158...    575   \n2      https://twitter.com/elonmusk/status/8703699158...    499   \n3      https://twitter.com/elonmusk/status/8703699158...    906   \n4      https://twitter.com/elonmusk/status/8703699158...     34   \n...                                                  ...    ...   \n50969                https://i.redd.it/atra15lxcqt81.png      1   \n50970                https://i.redd.it/atra15lxcqt81.png      1   \n50971                https://i.redd.it/atra15lxcqt81.png      1   \n50972                https://i.redd.it/atra15lxcqt81.png      1   \n50973                https://i.redd.it/atra15lxcqt81.png      0   \n\n       Comment Count             Created  \\\n0                  0 2017-06-01 20:21:23   \n1                  0 2017-06-01 20:34:32   \n2                  0 2017-06-01 20:31:45   \n3                  0 2017-06-01 20:10:56   \n4                  0 2017-06-01 23:52:08   \n...              ...                 ...   \n50969              0 2022-04-16 19:09:21   \n50970              0 2022-04-16 19:12:24   \n50971              0 2022-04-16 19:18:50   \n50972              0 2022-04-16 11:12:36   \n50973              0 2022-04-16 19:06:38   \n\n                                            Comment Body        Comment Author  \n0      There is really no point in staying on as an a...            Litterball  \n1             I am surprised this isnt on /r/Futurology               suredoit  \n2      I guess all that 'the only way to deal with Tr...  RiseoftheTrumpwaffen  \n3      Was there any doubt this man would stick to hi...             mirrorsaw  \n4      Every President wants to leave a stamp on Amer...              jonb3838  \n...                                                  ...                   ...  \n50969  Well I didn't say it isn't getting better. I a...                   NaN  \n50970  I'm not sure that is true unless there is a pe...                   NaN  \n50971  I don't think we can have that evidence with c...                   NaN  \n50972  Well, to be fair, I saw NYT and Time articles ...          mrprogrampro  \n50973  Damn. I'm surprised you didn't get downvoted t...                   NaN  \n\n[50974 rows x 9 columns]",
      "text/html": "<div>\n<style scoped>\n    .dataframe tbody tr th:only-of-type {\n        vertical-align: middle;\n    }\n\n    .dataframe tbody tr th {\n        vertical-align: top;\n    }\n\n    .dataframe thead th {\n        text-align: right;\n    }\n</style>\n<table border=\"1\" class=\"dataframe\">\n  <thead>\n    <tr style=\"text-align: right;\">\n      <th></th>\n      <th>Title</th>\n      <th>Post ID</th>\n      <th>Author</th>\n      <th>URL</th>\n      <th>Score</th>\n      <th>Comment Count</th>\n      <th>Created</th>\n      <th>Comment Body</th>\n      <th>Comment Author</th>\n    </tr>\n  </thead>\n  <tbody>\n    <tr>\n      <th>0</th>\n      <td>Elon Musk Leaves Presidential Councils</td>\n      <td>6epd1s</td>\n      <td>Litterball</td>\n      <td>https://twitter.com/elonmusk/status/8703699158...</td>\n      <td>9711</td>\n      <td>0</td>\n      <td>2017-06-01 20:21:23</td>\n      <td>There is really no point in staying on as an a...</td>\n      <td>Litterball</td>\n    </tr>\n    <tr>\n      <th>1</th>\n      <td>Elon Musk Leaves Presidential Councils</td>\n      <td>6epd1s</td>\n      <td>suredoit</td>\n      <td>https://twitter.com/elonmusk/status/8703699158...</td>\n      <td>575</td>\n      <td>0</td>\n      <td>2017-06-01 20:34:32</td>\n      <td>I am surprised this isnt on /r/Futurology</td>\n      <td>suredoit</td>\n    </tr>\n    <tr>\n      <th>2</th>\n      <td>Elon Musk Leaves Presidential Councils</td>\n      <td>6epd1s</td>\n      <td>RiseoftheTrumpwaffen</td>\n      <td>https://twitter.com/elonmusk/status/8703699158...</td>\n      <td>499</td>\n      <td>0</td>\n      <td>2017-06-01 20:31:45</td>\n      <td>I guess all that 'the only way to deal with Tr...</td>\n      <td>RiseoftheTrumpwaffen</td>\n    </tr>\n    <tr>\n      <th>3</th>\n      <td>Elon Musk Leaves Presidential Councils</td>\n      <td>6epd1s</td>\n      <td>mirrorsaw</td>\n      <td>https://twitter.com/elonmusk/status/8703699158...</td>\n      <td>906</td>\n      <td>0</td>\n      <td>2017-06-01 20:10:56</td>\n      <td>Was there any doubt this man would stick to hi...</td>\n      <td>mirrorsaw</td>\n    </tr>\n    <tr>\n      <th>4</th>\n      <td>Elon Musk Leaves Presidential Councils</td>\n      <td>6epd1s</td>\n      <td>jonb3838</td>\n      <td>https://twitter.com/elonmusk/status/8703699158...</td>\n      <td>34</td>\n      <td>0</td>\n      <td>2017-06-01 23:52:08</td>\n      <td>Every President wants to leave a stamp on Amer...</td>\n      <td>jonb3838</td>\n    </tr>\n    <tr>\n      <th>...</th>\n      <td>...</td>\n      <td>...</td>\n      <td>...</td>\n      <td>...</td>\n      <td>...</td>\n      <td>...</td>\n      <td>...</td>\n      <td>...</td>\n      <td>...</td>\n    </tr>\n    <tr>\n      <th>50969</th>\n      <td>Opinionated politician opens her mouth and get...</td>\n      <td>u4dltu</td>\n      <td>NaN</td>\n      <td>https://i.redd.it/atra15lxcqt81.png</td>\n      <td>1</td>\n      <td>0</td>\n      <td>2022-04-16 19:09:21</td>\n      <td>Well I didn't say it isn't getting better. I a...</td>\n      <td>NaN</td>\n    </tr>\n    <tr>\n      <th>50970</th>\n      <td>Opinionated politician opens her mouth and get...</td>\n      <td>u4dltu</td>\n      <td>NaN</td>\n      <td>https://i.redd.it/atra15lxcqt81.png</td>\n      <td>1</td>\n      <td>0</td>\n      <td>2022-04-16 19:12:24</td>\n      <td>I'm not sure that is true unless there is a pe...</td>\n      <td>NaN</td>\n    </tr>\n    <tr>\n      <th>50971</th>\n      <td>Opinionated politician opens her mouth and get...</td>\n      <td>u4dltu</td>\n      <td>NaN</td>\n      <td>https://i.redd.it/atra15lxcqt81.png</td>\n      <td>1</td>\n      <td>0</td>\n      <td>2022-04-16 19:18:50</td>\n      <td>I don't think we can have that evidence with c...</td>\n      <td>NaN</td>\n    </tr>\n    <tr>\n      <th>50972</th>\n      <td>Opinionated politician opens her mouth and get...</td>\n      <td>u4dltu</td>\n      <td>mrprogrampro</td>\n      <td>https://i.redd.it/atra15lxcqt81.png</td>\n      <td>1</td>\n      <td>0</td>\n      <td>2022-04-16 11:12:36</td>\n      <td>Well, to be fair, I saw NYT and Time articles ...</td>\n      <td>mrprogrampro</td>\n    </tr>\n    <tr>\n      <th>50973</th>\n      <td>Opinionated politician opens her mouth and get...</td>\n      <td>u4dltu</td>\n      <td>NaN</td>\n      <td>https://i.redd.it/atra15lxcqt81.png</td>\n      <td>0</td>\n      <td>0</td>\n      <td>2022-04-16 19:06:38</td>\n      <td>Damn. I'm surprised you didn't get downvoted t...</td>\n      <td>NaN</td>\n    </tr>\n  </tbody>\n</table>\n<p>50974 rows × 9 columns</p>\n</div>"
     },
     "execution_count": 32,
     "metadata": {},
     "output_type": "execute_result"
    }
   ],
   "source": [
    "english_df"
   ],
   "metadata": {
    "collapsed": false,
    "ExecuteTime": {
     "end_time": "2023-10-09T12:39:07.049273Z",
     "start_time": "2023-10-09T12:39:07.045757Z"
    }
   },
   "id": "b8ce7ae47ff57053"
  },
  {
   "cell_type": "code",
   "execution_count": 33,
   "outputs": [],
   "source": [
    "# Create a new 'Date' column with the desired format '%Y-%m-%d'\n",
    "english_df['Date'] = english_df['Created'].dt.strftime('%Y-%m-%d')"
   ],
   "metadata": {
    "collapsed": false,
    "ExecuteTime": {
     "end_time": "2023-10-09T12:39:14.162662Z",
     "start_time": "2023-10-09T12:39:14.136124Z"
    }
   },
   "id": "b77e751d027096bb"
  },
  {
   "cell_type": "code",
   "execution_count": 34,
   "outputs": [
    {
     "name": "stdout",
     "output_type": "stream",
     "text": [
      "Minimum Date: 2016-11-09\n",
      "Maximum Date: 2023-10-08\n"
     ]
    }
   ],
   "source": [
    "# Extract the minimum and maximum dates\n",
    "min_date = english_df['Date'].min()\n",
    "max_date = english_df['Date'].max()\n",
    "\n",
    "print(f\"Minimum Date: {min_date}\")\n",
    "print(f\"Maximum Date: {max_date}\")"
   ],
   "metadata": {
    "collapsed": false,
    "ExecuteTime": {
     "end_time": "2023-10-09T12:39:15.260186Z",
     "start_time": "2023-10-09T12:39:15.253845Z"
    }
   },
   "id": "a0692bf8e2dc6a0e"
  },
  {
   "cell_type": "code",
   "execution_count": 22,
   "outputs": [
    {
     "ename": "TypeError",
     "evalue": "TimeSeries.get_daily() got an unexpected keyword argument 'start'",
     "output_type": "error",
     "traceback": [
      "\u001B[0;31m---------------------------------------------------------------------------\u001B[0m",
      "\u001B[0;31mTypeError\u001B[0m                                 Traceback (most recent call last)",
      "Cell \u001B[0;32mIn[22], line 12\u001B[0m\n\u001B[1;32m      9\u001B[0m symbol \u001B[38;5;241m=\u001B[39m \u001B[38;5;124m'\u001B[39m\u001B[38;5;124mTSLA\u001B[39m\u001B[38;5;124m'\u001B[39m  \u001B[38;5;66;03m# Tesla stock symbol\u001B[39;00m\n\u001B[1;32m     11\u001B[0m \u001B[38;5;66;03m# Retrieve historical stock price data within the specified date range\u001B[39;00m\n\u001B[0;32m---> 12\u001B[0m stock_data, meta_data \u001B[38;5;241m=\u001B[39m \u001B[43mts\u001B[49m\u001B[38;5;241;43m.\u001B[39;49m\u001B[43mget_daily\u001B[49m\u001B[43m(\u001B[49m\u001B[43msymbol\u001B[49m\u001B[38;5;241;43m=\u001B[39;49m\u001B[43msymbol\u001B[49m\u001B[43m,\u001B[49m\u001B[43m \u001B[49m\u001B[43moutputsize\u001B[49m\u001B[38;5;241;43m=\u001B[39;49m\u001B[38;5;124;43m'\u001B[39;49m\u001B[38;5;124;43mfull\u001B[39;49m\u001B[38;5;124;43m'\u001B[39;49m\u001B[43m,\u001B[49m\u001B[43m \u001B[49m\u001B[43mstart\u001B[49m\u001B[38;5;241;43m=\u001B[39;49m\u001B[43mmin_date\u001B[49m\u001B[43m,\u001B[49m\u001B[43m \u001B[49m\u001B[43mend\u001B[49m\u001B[38;5;241;43m=\u001B[39;49m\u001B[43mmax_date\u001B[49m\u001B[43m)\u001B[49m\n\u001B[1;32m     14\u001B[0m \u001B[38;5;66;03m# Reset the index and save to a CSV file\u001B[39;00m\n\u001B[1;32m     15\u001B[0m stock_data\u001B[38;5;241m.\u001B[39mreset_index(inplace\u001B[38;5;241m=\u001B[39m\u001B[38;5;28;01mTrue\u001B[39;00m)\n",
      "File \u001B[0;32m/opt/homebrew/anaconda3/lib/python3.10/site-packages/alpha_vantage/alphavantage.py:218\u001B[0m, in \u001B[0;36mAlphaVantage._output_format.<locals>._format_wrapper\u001B[0;34m(self, *args, **kwargs)\u001B[0m\n\u001B[1;32m    216\u001B[0m \u001B[38;5;129m@wraps\u001B[39m(func)\n\u001B[1;32m    217\u001B[0m \u001B[38;5;28;01mdef\u001B[39;00m \u001B[38;5;21m_format_wrapper\u001B[39m(\u001B[38;5;28mself\u001B[39m, \u001B[38;5;241m*\u001B[39margs, \u001B[38;5;241m*\u001B[39m\u001B[38;5;241m*\u001B[39mkwargs):\n\u001B[0;32m--> 218\u001B[0m     call_response, data_key, meta_data_key \u001B[38;5;241m=\u001B[39m \u001B[43mfunc\u001B[49m\u001B[43m(\u001B[49m\n\u001B[1;32m    219\u001B[0m \u001B[43m        \u001B[49m\u001B[38;5;28;43mself\u001B[39;49m\u001B[43m,\u001B[49m\u001B[43m \u001B[49m\u001B[38;5;241;43m*\u001B[39;49m\u001B[43margs\u001B[49m\u001B[43m,\u001B[49m\u001B[43m \u001B[49m\u001B[38;5;241;43m*\u001B[39;49m\u001B[38;5;241;43m*\u001B[39;49m\u001B[43mkwargs\u001B[49m\u001B[43m)\u001B[49m\n\u001B[1;32m    220\u001B[0m     \u001B[38;5;28;01mif\u001B[39;00m \u001B[38;5;124m'\u001B[39m\u001B[38;5;124mjson\u001B[39m\u001B[38;5;124m'\u001B[39m \u001B[38;5;129;01min\u001B[39;00m \u001B[38;5;28mself\u001B[39m\u001B[38;5;241m.\u001B[39moutput_format\u001B[38;5;241m.\u001B[39mlower() \u001B[38;5;129;01mor\u001B[39;00m \u001B[38;5;124m'\u001B[39m\u001B[38;5;124mpandas\u001B[39m\u001B[38;5;124m'\u001B[39m \\\n\u001B[1;32m    221\u001B[0m             \u001B[38;5;129;01min\u001B[39;00m \u001B[38;5;28mself\u001B[39m\u001B[38;5;241m.\u001B[39moutput_format\u001B[38;5;241m.\u001B[39mlower():\n\u001B[1;32m    222\u001B[0m         \u001B[38;5;28;01mif\u001B[39;00m data_key \u001B[38;5;129;01mis\u001B[39;00m \u001B[38;5;129;01mnot\u001B[39;00m \u001B[38;5;28;01mNone\u001B[39;00m:\n",
      "File \u001B[0;32m/opt/homebrew/anaconda3/lib/python3.10/site-packages/alpha_vantage/alphavantage.py:122\u001B[0m, in \u001B[0;36mAlphaVantage._call_api_on_func.<locals>._call_wrapper\u001B[0;34m(self, *args, **kwargs)\u001B[0m\n\u001B[1;32m    117\u001B[0m used_kwargs\u001B[38;5;241m.\u001B[39mupdate({k: used_kwargs\u001B[38;5;241m.\u001B[39mget(k, d)\n\u001B[1;32m    118\u001B[0m                     \u001B[38;5;28;01mfor\u001B[39;00m k, d \u001B[38;5;129;01min\u001B[39;00m defaults\u001B[38;5;241m.\u001B[39mitems()})\n\u001B[1;32m    119\u001B[0m \u001B[38;5;66;03m# Form the base url, the original function called must return\u001B[39;00m\n\u001B[1;32m    120\u001B[0m \u001B[38;5;66;03m# the function name defined in the alpha vantage api and the data\u001B[39;00m\n\u001B[1;32m    121\u001B[0m \u001B[38;5;66;03m# key for it and for its meta data.\u001B[39;00m\n\u001B[0;32m--> 122\u001B[0m function_name, data_key, meta_data_key \u001B[38;5;241m=\u001B[39m \u001B[43mfunc\u001B[49m\u001B[43m(\u001B[49m\n\u001B[1;32m    123\u001B[0m \u001B[43m    \u001B[49m\u001B[38;5;28;43mself\u001B[39;49m\u001B[43m,\u001B[49m\u001B[43m \u001B[49m\u001B[38;5;241;43m*\u001B[39;49m\u001B[43margs\u001B[49m\u001B[43m,\u001B[49m\u001B[43m \u001B[49m\u001B[38;5;241;43m*\u001B[39;49m\u001B[38;5;241;43m*\u001B[39;49m\u001B[43mkwargs\u001B[49m\u001B[43m)\u001B[49m\n\u001B[1;32m    124\u001B[0m base_url \u001B[38;5;241m=\u001B[39m AlphaVantage\u001B[38;5;241m.\u001B[39m_RAPIDAPI_URL \u001B[38;5;28;01mif\u001B[39;00m \u001B[38;5;28mself\u001B[39m\u001B[38;5;241m.\u001B[39mrapidapi \u001B[38;5;28;01melse\u001B[39;00m AlphaVantage\u001B[38;5;241m.\u001B[39m_ALPHA_VANTAGE_API_URL\n\u001B[1;32m    125\u001B[0m url \u001B[38;5;241m=\u001B[39m \u001B[38;5;124m\"\u001B[39m\u001B[38;5;132;01m{}\u001B[39;00m\u001B[38;5;124mfunction=\u001B[39m\u001B[38;5;132;01m{}\u001B[39;00m\u001B[38;5;124m\"\u001B[39m\u001B[38;5;241m.\u001B[39mformat(base_url, function_name)\n",
      "\u001B[0;31mTypeError\u001B[0m: TimeSeries.get_daily() got an unexpected keyword argument 'start'"
     ]
    }
   ],
   "source": [
    "from alpha_vantage.timeseries import TimeSeries\n",
    "\n",
    "# Replace 'YOUR_API_KEY' with your AlphaVantage API key\n",
    "api_key = 'J2OJF6SPJGM94TKD'\n",
    "\n",
    "# Create an instance of the TimeSeries class\n",
    "ts = TimeSeries(key=api_key, output_format='pandas')\n",
    "\n",
    "symbol = 'TSLA'  # Tesla stock symbol\n",
    "\n",
    "\n",
    "# Retrieve historical stock price data from AlphaVantage\n",
    "stock_data, meta_data = ts.get_daily(symbol=symbol, outputsize='full')\n",
    "\n",
    "# Convert the date index to a 'Date' column in the DataFrame\n",
    "stock_data.reset_index(inplace=True)\n",
    "stock_data.to_csv('stock_data.csv', index=False)"
   ],
   "metadata": {
    "collapsed": false,
    "ExecuteTime": {
     "end_time": "2023-10-09T12:30:06.531742Z",
     "start_time": "2023-10-09T12:30:06.471682Z"
    }
   },
   "id": "e93f5caa601eebd1"
  },
  {
   "cell_type": "code",
   "execution_count": 52,
   "outputs": [],
   "source": [
    "# Load your AlphaVantage DataFrame\n",
    "alpha_df = pd.read_csv('stock_data.csv')\n",
    "\n",
    "# Convert the 'Date' column in the AlphaVantage DataFrame to datetime\n",
    "alpha_df['date'] = pd.to_datetime(alpha_df['date'], format='%Y-%m-%d')\n",
    "alpha_df['date'] = alpha_df['date'].dt.strftime('%Y-%m-%d')\n",
    "\n",
    "# Slice the 'alpha_df' DataFrame to select rows within the date range in reddit data\n",
    "alpha_sliced_df = alpha_df.loc[(alpha_df['date'] >= min_date) & (alpha_df['date'] <= max_date)]\n",
    "\n",
    "# Reset the index if needed\n",
    "alpha_sliced_df.reset_index(drop=True, inplace=True)\n",
    "\n",
    "alpha_sliced_df = alpha_sliced_df.rename(columns={'date': 'Date'})\n"
   ],
   "metadata": {
    "collapsed": false,
    "ExecuteTime": {
     "end_time": "2023-10-09T12:52:11.011612Z",
     "start_time": "2023-10-09T12:52:11.000394Z"
    }
   },
   "id": "f4e30c6a65a36f8"
  },
  {
   "cell_type": "code",
   "execution_count": 53,
   "outputs": [
    {
     "data": {
      "text/plain": "            Date  1. open   2. high  3. low  4. close    5. volume\n0     2023-10-06  253.980  261.6500  250.65    260.53  118121812.0\n1     2023-10-05  260.000  263.6000  256.25    260.05  119159214.0\n2     2023-10-04  248.140  261.8600  247.60    261.16  129721567.0\n3     2023-10-03  248.610  250.0200  244.45    246.53  101985305.0\n4     2023-10-02  244.810  254.2799  242.62    251.60  123810402.0\n...          ...      ...       ...     ...       ...          ...\n1733  2016-11-15  182.780  186.4300  182.05    183.77    3902018.0\n1734  2016-11-14  188.000  188.2500  178.19    181.45    6552205.0\n1735  2016-11-11  184.240  188.8800  183.00    188.56    3988504.0\n1736  2016-11-10  191.050  191.6100  180.42    185.35    6750341.0\n1737  2016-11-09  186.875  192.0000  183.95    190.06    8173065.0\n\n[1738 rows x 6 columns]",
      "text/html": "<div>\n<style scoped>\n    .dataframe tbody tr th:only-of-type {\n        vertical-align: middle;\n    }\n\n    .dataframe tbody tr th {\n        vertical-align: top;\n    }\n\n    .dataframe thead th {\n        text-align: right;\n    }\n</style>\n<table border=\"1\" class=\"dataframe\">\n  <thead>\n    <tr style=\"text-align: right;\">\n      <th></th>\n      <th>Date</th>\n      <th>1. open</th>\n      <th>2. high</th>\n      <th>3. low</th>\n      <th>4. close</th>\n      <th>5. volume</th>\n    </tr>\n  </thead>\n  <tbody>\n    <tr>\n      <th>0</th>\n      <td>2023-10-06</td>\n      <td>253.980</td>\n      <td>261.6500</td>\n      <td>250.65</td>\n      <td>260.53</td>\n      <td>118121812.0</td>\n    </tr>\n    <tr>\n      <th>1</th>\n      <td>2023-10-05</td>\n      <td>260.000</td>\n      <td>263.6000</td>\n      <td>256.25</td>\n      <td>260.05</td>\n      <td>119159214.0</td>\n    </tr>\n    <tr>\n      <th>2</th>\n      <td>2023-10-04</td>\n      <td>248.140</td>\n      <td>261.8600</td>\n      <td>247.60</td>\n      <td>261.16</td>\n      <td>129721567.0</td>\n    </tr>\n    <tr>\n      <th>3</th>\n      <td>2023-10-03</td>\n      <td>248.610</td>\n      <td>250.0200</td>\n      <td>244.45</td>\n      <td>246.53</td>\n      <td>101985305.0</td>\n    </tr>\n    <tr>\n      <th>4</th>\n      <td>2023-10-02</td>\n      <td>244.810</td>\n      <td>254.2799</td>\n      <td>242.62</td>\n      <td>251.60</td>\n      <td>123810402.0</td>\n    </tr>\n    <tr>\n      <th>...</th>\n      <td>...</td>\n      <td>...</td>\n      <td>...</td>\n      <td>...</td>\n      <td>...</td>\n      <td>...</td>\n    </tr>\n    <tr>\n      <th>1733</th>\n      <td>2016-11-15</td>\n      <td>182.780</td>\n      <td>186.4300</td>\n      <td>182.05</td>\n      <td>183.77</td>\n      <td>3902018.0</td>\n    </tr>\n    <tr>\n      <th>1734</th>\n      <td>2016-11-14</td>\n      <td>188.000</td>\n      <td>188.2500</td>\n      <td>178.19</td>\n      <td>181.45</td>\n      <td>6552205.0</td>\n    </tr>\n    <tr>\n      <th>1735</th>\n      <td>2016-11-11</td>\n      <td>184.240</td>\n      <td>188.8800</td>\n      <td>183.00</td>\n      <td>188.56</td>\n      <td>3988504.0</td>\n    </tr>\n    <tr>\n      <th>1736</th>\n      <td>2016-11-10</td>\n      <td>191.050</td>\n      <td>191.6100</td>\n      <td>180.42</td>\n      <td>185.35</td>\n      <td>6750341.0</td>\n    </tr>\n    <tr>\n      <th>1737</th>\n      <td>2016-11-09</td>\n      <td>186.875</td>\n      <td>192.0000</td>\n      <td>183.95</td>\n      <td>190.06</td>\n      <td>8173065.0</td>\n    </tr>\n  </tbody>\n</table>\n<p>1738 rows × 6 columns</p>\n</div>"
     },
     "execution_count": 53,
     "metadata": {},
     "output_type": "execute_result"
    }
   ],
   "source": [
    "alpha_sliced_df"
   ],
   "metadata": {
    "collapsed": false,
    "ExecuteTime": {
     "end_time": "2023-10-09T12:52:11.782007Z",
     "start_time": "2023-10-09T12:52:11.777245Z"
    }
   },
   "id": "b6200e330452e5a9"
  },
  {
   "cell_type": "code",
   "execution_count": 64,
   "outputs": [],
   "source": [
    "# Merge the DataFrames based on the 'Date' column\n",
    "merged_df = pd.merge(english_df,alpha_sliced_df, on='Date', how='inner')\n",
    "# Save the merged data to a CSV file or perform further analysis\n",
    "merged_df.to_csv('merged_data.csv', index=False)"
   ],
   "metadata": {
    "collapsed": false,
    "ExecuteTime": {
     "end_time": "2023-10-09T13:18:49.893889Z",
     "start_time": "2023-10-09T13:18:49.642024Z"
    }
   },
   "id": "bd94cf6fa39092b9"
  },
  {
   "cell_type": "code",
   "execution_count": 65,
   "outputs": [
    {
     "data": {
      "text/plain": "                                        Title Post ID                Author  \\\n0      Elon Musk Leaves Presidential Councils  6epd1s            Litterball   \n1      Elon Musk Leaves Presidential Councils  6epd1s              suredoit   \n2      Elon Musk Leaves Presidential Councils  6epd1s  RiseoftheTrumpwaffen   \n3      Elon Musk Leaves Presidential Councils  6epd1s             mirrorsaw   \n4      Elon Musk Leaves Presidential Councils  6epd1s              jonb3838   \n...                                       ...     ...                   ...   \n36825          Farm livin’ is the life for me  bk3xg3  Whatsittoyousmartguy   \n36826          Farm livin’ is the life for me  bk3xg3                N8Disk   \n36827          Farm livin’ is the life for me  bk3xg3            Apatomoose   \n36828          Farm livin’ is the life for me  bk3xg3            bradopolis   \n36829          Farm livin’ is the life for me  bk3xg3               Biblosz   \n\n                                                     URL  Score  \\\n0      https://twitter.com/elonmusk/status/8703699158...   9711   \n1      https://twitter.com/elonmusk/status/8703699158...    575   \n2      https://twitter.com/elonmusk/status/8703699158...    499   \n3      https://twitter.com/elonmusk/status/8703699158...    906   \n4      https://twitter.com/elonmusk/status/8703699158...     34   \n...                                                  ...    ...   \n36825                https://i.redd.it/d4ls5jno1xv21.jpg      7   \n36826                https://i.redd.it/d4ls5jno1xv21.jpg      6   \n36827                https://i.redd.it/d4ls5jno1xv21.jpg      5   \n36828                https://i.redd.it/d4ls5jno1xv21.jpg      5   \n36829                https://i.redd.it/d4ls5jno1xv21.jpg     23   \n\n       Comment Count             Created  \\\n0                  0 2017-06-01 20:21:23   \n1                  0 2017-06-01 20:34:32   \n2                  0 2017-06-01 20:31:45   \n3                  0 2017-06-01 20:10:56   \n4                  0 2017-06-01 23:52:08   \n...              ...                 ...   \n36825              0 2019-05-03 10:22:53   \n36826              0 2019-05-03 12:23:31   \n36827              0 2019-05-03 12:47:58   \n36828              0 2019-05-03 14:34:39   \n36829              0 2019-05-03 10:35:58   \n\n                                            Comment Body  \\\n0      There is really no point in staying on as an a...   \n1             I am surprised this isnt on /r/Futurology    \n2      I guess all that 'the only way to deal with Tr...   \n3      Was there any doubt this man would stick to hi...   \n4      Every President wants to leave a stamp on Amer...   \n...                                                  ...   \n36825                                       well, is it?   \n36826  Verifying what you read on the internet is a g...   \n36827  That's because he takes suggestions and runs w...   \n36828                                      Is this real?   \n36829                                      It isn't fake   \n\n             Comment Author        Date  1. open  2. high  3. low  4. close  \\\n0                Litterball  2017-06-01   344.00   344.88  337.29    340.37   \n1                  suredoit  2017-06-01   344.00   344.88  337.29    340.37   \n2      RiseoftheTrumpwaffen  2017-06-01   344.00   344.88  337.29    340.37   \n3                 mirrorsaw  2017-06-01   344.00   344.88  337.29    340.37   \n4                  jonb3838  2017-06-01   344.00   344.88  337.29    340.37   \n...                     ...         ...      ...      ...     ...       ...   \n36825  Whatsittoyousmartguy  2019-05-03   243.86   256.61  243.49    255.03   \n36826                N8Disk  2019-05-03   243.86   256.61  243.49    255.03   \n36827            Apatomoose  2019-05-03   243.86   256.61  243.49    255.03   \n36828            bradopolis  2019-05-03   243.86   256.61  243.49    255.03   \n36829               Biblosz  2019-05-03   243.86   256.61  243.49    255.03   \n\n        5. volume  \n0       7580447.0  \n1       7580447.0  \n2       7580447.0  \n3       7580447.0  \n4       7580447.0  \n...           ...  \n36825  23706771.0  \n36826  23706771.0  \n36827  23706771.0  \n36828  23706771.0  \n36829  23706771.0  \n\n[36830 rows x 15 columns]",
      "text/html": "<div>\n<style scoped>\n    .dataframe tbody tr th:only-of-type {\n        vertical-align: middle;\n    }\n\n    .dataframe tbody tr th {\n        vertical-align: top;\n    }\n\n    .dataframe thead th {\n        text-align: right;\n    }\n</style>\n<table border=\"1\" class=\"dataframe\">\n  <thead>\n    <tr style=\"text-align: right;\">\n      <th></th>\n      <th>Title</th>\n      <th>Post ID</th>\n      <th>Author</th>\n      <th>URL</th>\n      <th>Score</th>\n      <th>Comment Count</th>\n      <th>Created</th>\n      <th>Comment Body</th>\n      <th>Comment Author</th>\n      <th>Date</th>\n      <th>1. open</th>\n      <th>2. high</th>\n      <th>3. low</th>\n      <th>4. close</th>\n      <th>5. volume</th>\n    </tr>\n  </thead>\n  <tbody>\n    <tr>\n      <th>0</th>\n      <td>Elon Musk Leaves Presidential Councils</td>\n      <td>6epd1s</td>\n      <td>Litterball</td>\n      <td>https://twitter.com/elonmusk/status/8703699158...</td>\n      <td>9711</td>\n      <td>0</td>\n      <td>2017-06-01 20:21:23</td>\n      <td>There is really no point in staying on as an a...</td>\n      <td>Litterball</td>\n      <td>2017-06-01</td>\n      <td>344.00</td>\n      <td>344.88</td>\n      <td>337.29</td>\n      <td>340.37</td>\n      <td>7580447.0</td>\n    </tr>\n    <tr>\n      <th>1</th>\n      <td>Elon Musk Leaves Presidential Councils</td>\n      <td>6epd1s</td>\n      <td>suredoit</td>\n      <td>https://twitter.com/elonmusk/status/8703699158...</td>\n      <td>575</td>\n      <td>0</td>\n      <td>2017-06-01 20:34:32</td>\n      <td>I am surprised this isnt on /r/Futurology</td>\n      <td>suredoit</td>\n      <td>2017-06-01</td>\n      <td>344.00</td>\n      <td>344.88</td>\n      <td>337.29</td>\n      <td>340.37</td>\n      <td>7580447.0</td>\n    </tr>\n    <tr>\n      <th>2</th>\n      <td>Elon Musk Leaves Presidential Councils</td>\n      <td>6epd1s</td>\n      <td>RiseoftheTrumpwaffen</td>\n      <td>https://twitter.com/elonmusk/status/8703699158...</td>\n      <td>499</td>\n      <td>0</td>\n      <td>2017-06-01 20:31:45</td>\n      <td>I guess all that 'the only way to deal with Tr...</td>\n      <td>RiseoftheTrumpwaffen</td>\n      <td>2017-06-01</td>\n      <td>344.00</td>\n      <td>344.88</td>\n      <td>337.29</td>\n      <td>340.37</td>\n      <td>7580447.0</td>\n    </tr>\n    <tr>\n      <th>3</th>\n      <td>Elon Musk Leaves Presidential Councils</td>\n      <td>6epd1s</td>\n      <td>mirrorsaw</td>\n      <td>https://twitter.com/elonmusk/status/8703699158...</td>\n      <td>906</td>\n      <td>0</td>\n      <td>2017-06-01 20:10:56</td>\n      <td>Was there any doubt this man would stick to hi...</td>\n      <td>mirrorsaw</td>\n      <td>2017-06-01</td>\n      <td>344.00</td>\n      <td>344.88</td>\n      <td>337.29</td>\n      <td>340.37</td>\n      <td>7580447.0</td>\n    </tr>\n    <tr>\n      <th>4</th>\n      <td>Elon Musk Leaves Presidential Councils</td>\n      <td>6epd1s</td>\n      <td>jonb3838</td>\n      <td>https://twitter.com/elonmusk/status/8703699158...</td>\n      <td>34</td>\n      <td>0</td>\n      <td>2017-06-01 23:52:08</td>\n      <td>Every President wants to leave a stamp on Amer...</td>\n      <td>jonb3838</td>\n      <td>2017-06-01</td>\n      <td>344.00</td>\n      <td>344.88</td>\n      <td>337.29</td>\n      <td>340.37</td>\n      <td>7580447.0</td>\n    </tr>\n    <tr>\n      <th>...</th>\n      <td>...</td>\n      <td>...</td>\n      <td>...</td>\n      <td>...</td>\n      <td>...</td>\n      <td>...</td>\n      <td>...</td>\n      <td>...</td>\n      <td>...</td>\n      <td>...</td>\n      <td>...</td>\n      <td>...</td>\n      <td>...</td>\n      <td>...</td>\n      <td>...</td>\n    </tr>\n    <tr>\n      <th>36825</th>\n      <td>Farm livin’ is the life for me</td>\n      <td>bk3xg3</td>\n      <td>Whatsittoyousmartguy</td>\n      <td>https://i.redd.it/d4ls5jno1xv21.jpg</td>\n      <td>7</td>\n      <td>0</td>\n      <td>2019-05-03 10:22:53</td>\n      <td>well, is it?</td>\n      <td>Whatsittoyousmartguy</td>\n      <td>2019-05-03</td>\n      <td>243.86</td>\n      <td>256.61</td>\n      <td>243.49</td>\n      <td>255.03</td>\n      <td>23706771.0</td>\n    </tr>\n    <tr>\n      <th>36826</th>\n      <td>Farm livin’ is the life for me</td>\n      <td>bk3xg3</td>\n      <td>N8Disk</td>\n      <td>https://i.redd.it/d4ls5jno1xv21.jpg</td>\n      <td>6</td>\n      <td>0</td>\n      <td>2019-05-03 12:23:31</td>\n      <td>Verifying what you read on the internet is a g...</td>\n      <td>N8Disk</td>\n      <td>2019-05-03</td>\n      <td>243.86</td>\n      <td>256.61</td>\n      <td>243.49</td>\n      <td>255.03</td>\n      <td>23706771.0</td>\n    </tr>\n    <tr>\n      <th>36827</th>\n      <td>Farm livin’ is the life for me</td>\n      <td>bk3xg3</td>\n      <td>Apatomoose</td>\n      <td>https://i.redd.it/d4ls5jno1xv21.jpg</td>\n      <td>5</td>\n      <td>0</td>\n      <td>2019-05-03 12:47:58</td>\n      <td>That's because he takes suggestions and runs w...</td>\n      <td>Apatomoose</td>\n      <td>2019-05-03</td>\n      <td>243.86</td>\n      <td>256.61</td>\n      <td>243.49</td>\n      <td>255.03</td>\n      <td>23706771.0</td>\n    </tr>\n    <tr>\n      <th>36828</th>\n      <td>Farm livin’ is the life for me</td>\n      <td>bk3xg3</td>\n      <td>bradopolis</td>\n      <td>https://i.redd.it/d4ls5jno1xv21.jpg</td>\n      <td>5</td>\n      <td>0</td>\n      <td>2019-05-03 14:34:39</td>\n      <td>Is this real?</td>\n      <td>bradopolis</td>\n      <td>2019-05-03</td>\n      <td>243.86</td>\n      <td>256.61</td>\n      <td>243.49</td>\n      <td>255.03</td>\n      <td>23706771.0</td>\n    </tr>\n    <tr>\n      <th>36829</th>\n      <td>Farm livin’ is the life for me</td>\n      <td>bk3xg3</td>\n      <td>Biblosz</td>\n      <td>https://i.redd.it/d4ls5jno1xv21.jpg</td>\n      <td>23</td>\n      <td>0</td>\n      <td>2019-05-03 10:35:58</td>\n      <td>It isn't fake</td>\n      <td>Biblosz</td>\n      <td>2019-05-03</td>\n      <td>243.86</td>\n      <td>256.61</td>\n      <td>243.49</td>\n      <td>255.03</td>\n      <td>23706771.0</td>\n    </tr>\n  </tbody>\n</table>\n<p>36830 rows × 15 columns</p>\n</div>"
     },
     "execution_count": 65,
     "metadata": {},
     "output_type": "execute_result"
    }
   ],
   "source": [
    "merged_df"
   ],
   "metadata": {
    "collapsed": false,
    "ExecuteTime": {
     "end_time": "2023-10-09T13:18:50.504549Z",
     "start_time": "2023-10-09T13:18:50.500222Z"
    }
   },
   "id": "357f4dacc7196dfb"
  },
  {
   "cell_type": "code",
   "execution_count": 66,
   "outputs": [],
   "source": [
    "import nltk\n",
    "from nltk.stem import PorterStemmer\n",
    "\n",
    "# Separate text columns from numerical columns\n",
    "text_columns = [\"Title\", \"Comment Body\"]\n",
    "\n",
    "# Initialize NLTK's Porter Stemmer\n",
    "stemmer = PorterStemmer()\n",
    "\n",
    "# Define a function for text preprocessing (stemming and normalization)\n",
    "def preprocess_text(text):\n",
    "    # Tokenize the text (split it into words)\n",
    "    words = nltk.word_tokenize(text)\n",
    "\n",
    "    # Apply stemming to each word\n",
    "    stemmed_words = [stemmer.stem(word) for word in words]\n",
    "\n",
    "    # Join the stemmed words back into a single string\n",
    "    normalized_text = ' '.join(stemmed_words)\n",
    "\n",
    "    return normalized_text\n",
    "\n",
    "# Apply the preprocessing function to each text column\n",
    "for col in text_columns:\n",
    "    merged_df[col] = merged_df[col].apply(preprocess_text)\n"
   ],
   "metadata": {
    "collapsed": false,
    "ExecuteTime": {
     "end_time": "2023-10-09T13:19:24.412186Z",
     "start_time": "2023-10-09T13:19:09.227311Z"
    }
   },
   "id": "a9c5da888529512f"
  },
  {
   "cell_type": "code",
   "execution_count": 67,
   "outputs": [
    {
     "data": {
      "text/plain": "                                   Title Post ID                Author  \\\n0      elon musk leav presidenti council  6epd1s            Litterball   \n1      elon musk leav presidenti council  6epd1s              suredoit   \n2      elon musk leav presidenti council  6epd1s  RiseoftheTrumpwaffen   \n3      elon musk leav presidenti council  6epd1s             mirrorsaw   \n4      elon musk leav presidenti council  6epd1s              jonb3838   \n...                                  ...     ...                   ...   \n36825    farm livin ’ is the life for me  bk3xg3  Whatsittoyousmartguy   \n36826    farm livin ’ is the life for me  bk3xg3                N8Disk   \n36827    farm livin ’ is the life for me  bk3xg3            Apatomoose   \n36828    farm livin ’ is the life for me  bk3xg3            bradopolis   \n36829    farm livin ’ is the life for me  bk3xg3               Biblosz   \n\n                                                     URL  Score  \\\n0      https://twitter.com/elonmusk/status/8703699158...   9711   \n1      https://twitter.com/elonmusk/status/8703699158...    575   \n2      https://twitter.com/elonmusk/status/8703699158...    499   \n3      https://twitter.com/elonmusk/status/8703699158...    906   \n4      https://twitter.com/elonmusk/status/8703699158...     34   \n...                                                  ...    ...   \n36825                https://i.redd.it/d4ls5jno1xv21.jpg      7   \n36826                https://i.redd.it/d4ls5jno1xv21.jpg      6   \n36827                https://i.redd.it/d4ls5jno1xv21.jpg      5   \n36828                https://i.redd.it/d4ls5jno1xv21.jpg      5   \n36829                https://i.redd.it/d4ls5jno1xv21.jpg     23   \n\n       Comment Count             Created  \\\n0                  0 2017-06-01 20:21:23   \n1                  0 2017-06-01 20:34:32   \n2                  0 2017-06-01 20:31:45   \n3                  0 2017-06-01 20:10:56   \n4                  0 2017-06-01 23:52:08   \n...              ...                 ...   \n36825              0 2019-05-03 10:22:53   \n36826              0 2019-05-03 12:23:31   \n36827              0 2019-05-03 12:47:58   \n36828              0 2019-05-03 14:34:39   \n36829              0 2019-05-03 10:35:58   \n\n                                            Comment Body  \\\n0      there is realli no point in stay on as an advi...   \n1                  i am surpris thi isnt on /r/futurolog   \n2      i guess all that 'the onli way to deal with tr...   \n3      wa there ani doubt thi man would stick to hi w...   \n4      everi presid want to leav a stamp on america ....   \n...                                                  ...   \n36825                                     well , is it ?   \n36826  verifi what you read on the internet is a good...   \n36827  that 's becaus he take suggest and run with th...   \n36828                                      is thi real ?   \n36829                                     it is n't fake   \n\n             Comment Author        Date  1. open  2. high  3. low  4. close  \\\n0                Litterball  2017-06-01   344.00   344.88  337.29    340.37   \n1                  suredoit  2017-06-01   344.00   344.88  337.29    340.37   \n2      RiseoftheTrumpwaffen  2017-06-01   344.00   344.88  337.29    340.37   \n3                 mirrorsaw  2017-06-01   344.00   344.88  337.29    340.37   \n4                  jonb3838  2017-06-01   344.00   344.88  337.29    340.37   \n...                     ...         ...      ...      ...     ...       ...   \n36825  Whatsittoyousmartguy  2019-05-03   243.86   256.61  243.49    255.03   \n36826                N8Disk  2019-05-03   243.86   256.61  243.49    255.03   \n36827            Apatomoose  2019-05-03   243.86   256.61  243.49    255.03   \n36828            bradopolis  2019-05-03   243.86   256.61  243.49    255.03   \n36829               Biblosz  2019-05-03   243.86   256.61  243.49    255.03   \n\n        5. volume  \n0       7580447.0  \n1       7580447.0  \n2       7580447.0  \n3       7580447.0  \n4       7580447.0  \n...           ...  \n36825  23706771.0  \n36826  23706771.0  \n36827  23706771.0  \n36828  23706771.0  \n36829  23706771.0  \n\n[36830 rows x 15 columns]",
      "text/html": "<div>\n<style scoped>\n    .dataframe tbody tr th:only-of-type {\n        vertical-align: middle;\n    }\n\n    .dataframe tbody tr th {\n        vertical-align: top;\n    }\n\n    .dataframe thead th {\n        text-align: right;\n    }\n</style>\n<table border=\"1\" class=\"dataframe\">\n  <thead>\n    <tr style=\"text-align: right;\">\n      <th></th>\n      <th>Title</th>\n      <th>Post ID</th>\n      <th>Author</th>\n      <th>URL</th>\n      <th>Score</th>\n      <th>Comment Count</th>\n      <th>Created</th>\n      <th>Comment Body</th>\n      <th>Comment Author</th>\n      <th>Date</th>\n      <th>1. open</th>\n      <th>2. high</th>\n      <th>3. low</th>\n      <th>4. close</th>\n      <th>5. volume</th>\n    </tr>\n  </thead>\n  <tbody>\n    <tr>\n      <th>0</th>\n      <td>elon musk leav presidenti council</td>\n      <td>6epd1s</td>\n      <td>Litterball</td>\n      <td>https://twitter.com/elonmusk/status/8703699158...</td>\n      <td>9711</td>\n      <td>0</td>\n      <td>2017-06-01 20:21:23</td>\n      <td>there is realli no point in stay on as an advi...</td>\n      <td>Litterball</td>\n      <td>2017-06-01</td>\n      <td>344.00</td>\n      <td>344.88</td>\n      <td>337.29</td>\n      <td>340.37</td>\n      <td>7580447.0</td>\n    </tr>\n    <tr>\n      <th>1</th>\n      <td>elon musk leav presidenti council</td>\n      <td>6epd1s</td>\n      <td>suredoit</td>\n      <td>https://twitter.com/elonmusk/status/8703699158...</td>\n      <td>575</td>\n      <td>0</td>\n      <td>2017-06-01 20:34:32</td>\n      <td>i am surpris thi isnt on /r/futurolog</td>\n      <td>suredoit</td>\n      <td>2017-06-01</td>\n      <td>344.00</td>\n      <td>344.88</td>\n      <td>337.29</td>\n      <td>340.37</td>\n      <td>7580447.0</td>\n    </tr>\n    <tr>\n      <th>2</th>\n      <td>elon musk leav presidenti council</td>\n      <td>6epd1s</td>\n      <td>RiseoftheTrumpwaffen</td>\n      <td>https://twitter.com/elonmusk/status/8703699158...</td>\n      <td>499</td>\n      <td>0</td>\n      <td>2017-06-01 20:31:45</td>\n      <td>i guess all that 'the onli way to deal with tr...</td>\n      <td>RiseoftheTrumpwaffen</td>\n      <td>2017-06-01</td>\n      <td>344.00</td>\n      <td>344.88</td>\n      <td>337.29</td>\n      <td>340.37</td>\n      <td>7580447.0</td>\n    </tr>\n    <tr>\n      <th>3</th>\n      <td>elon musk leav presidenti council</td>\n      <td>6epd1s</td>\n      <td>mirrorsaw</td>\n      <td>https://twitter.com/elonmusk/status/8703699158...</td>\n      <td>906</td>\n      <td>0</td>\n      <td>2017-06-01 20:10:56</td>\n      <td>wa there ani doubt thi man would stick to hi w...</td>\n      <td>mirrorsaw</td>\n      <td>2017-06-01</td>\n      <td>344.00</td>\n      <td>344.88</td>\n      <td>337.29</td>\n      <td>340.37</td>\n      <td>7580447.0</td>\n    </tr>\n    <tr>\n      <th>4</th>\n      <td>elon musk leav presidenti council</td>\n      <td>6epd1s</td>\n      <td>jonb3838</td>\n      <td>https://twitter.com/elonmusk/status/8703699158...</td>\n      <td>34</td>\n      <td>0</td>\n      <td>2017-06-01 23:52:08</td>\n      <td>everi presid want to leav a stamp on america ....</td>\n      <td>jonb3838</td>\n      <td>2017-06-01</td>\n      <td>344.00</td>\n      <td>344.88</td>\n      <td>337.29</td>\n      <td>340.37</td>\n      <td>7580447.0</td>\n    </tr>\n    <tr>\n      <th>...</th>\n      <td>...</td>\n      <td>...</td>\n      <td>...</td>\n      <td>...</td>\n      <td>...</td>\n      <td>...</td>\n      <td>...</td>\n      <td>...</td>\n      <td>...</td>\n      <td>...</td>\n      <td>...</td>\n      <td>...</td>\n      <td>...</td>\n      <td>...</td>\n      <td>...</td>\n    </tr>\n    <tr>\n      <th>36825</th>\n      <td>farm livin ’ is the life for me</td>\n      <td>bk3xg3</td>\n      <td>Whatsittoyousmartguy</td>\n      <td>https://i.redd.it/d4ls5jno1xv21.jpg</td>\n      <td>7</td>\n      <td>0</td>\n      <td>2019-05-03 10:22:53</td>\n      <td>well , is it ?</td>\n      <td>Whatsittoyousmartguy</td>\n      <td>2019-05-03</td>\n      <td>243.86</td>\n      <td>256.61</td>\n      <td>243.49</td>\n      <td>255.03</td>\n      <td>23706771.0</td>\n    </tr>\n    <tr>\n      <th>36826</th>\n      <td>farm livin ’ is the life for me</td>\n      <td>bk3xg3</td>\n      <td>N8Disk</td>\n      <td>https://i.redd.it/d4ls5jno1xv21.jpg</td>\n      <td>6</td>\n      <td>0</td>\n      <td>2019-05-03 12:23:31</td>\n      <td>verifi what you read on the internet is a good...</td>\n      <td>N8Disk</td>\n      <td>2019-05-03</td>\n      <td>243.86</td>\n      <td>256.61</td>\n      <td>243.49</td>\n      <td>255.03</td>\n      <td>23706771.0</td>\n    </tr>\n    <tr>\n      <th>36827</th>\n      <td>farm livin ’ is the life for me</td>\n      <td>bk3xg3</td>\n      <td>Apatomoose</td>\n      <td>https://i.redd.it/d4ls5jno1xv21.jpg</td>\n      <td>5</td>\n      <td>0</td>\n      <td>2019-05-03 12:47:58</td>\n      <td>that 's becaus he take suggest and run with th...</td>\n      <td>Apatomoose</td>\n      <td>2019-05-03</td>\n      <td>243.86</td>\n      <td>256.61</td>\n      <td>243.49</td>\n      <td>255.03</td>\n      <td>23706771.0</td>\n    </tr>\n    <tr>\n      <th>36828</th>\n      <td>farm livin ’ is the life for me</td>\n      <td>bk3xg3</td>\n      <td>bradopolis</td>\n      <td>https://i.redd.it/d4ls5jno1xv21.jpg</td>\n      <td>5</td>\n      <td>0</td>\n      <td>2019-05-03 14:34:39</td>\n      <td>is thi real ?</td>\n      <td>bradopolis</td>\n      <td>2019-05-03</td>\n      <td>243.86</td>\n      <td>256.61</td>\n      <td>243.49</td>\n      <td>255.03</td>\n      <td>23706771.0</td>\n    </tr>\n    <tr>\n      <th>36829</th>\n      <td>farm livin ’ is the life for me</td>\n      <td>bk3xg3</td>\n      <td>Biblosz</td>\n      <td>https://i.redd.it/d4ls5jno1xv21.jpg</td>\n      <td>23</td>\n      <td>0</td>\n      <td>2019-05-03 10:35:58</td>\n      <td>it is n't fake</td>\n      <td>Biblosz</td>\n      <td>2019-05-03</td>\n      <td>243.86</td>\n      <td>256.61</td>\n      <td>243.49</td>\n      <td>255.03</td>\n      <td>23706771.0</td>\n    </tr>\n  </tbody>\n</table>\n<p>36830 rows × 15 columns</p>\n</div>"
     },
     "execution_count": 67,
     "metadata": {},
     "output_type": "execute_result"
    }
   ],
   "source": [
    "merged_df"
   ],
   "metadata": {
    "collapsed": false,
    "ExecuteTime": {
     "end_time": "2023-10-09T13:19:40.689605Z",
     "start_time": "2023-10-09T13:19:40.683570Z"
    }
   },
   "id": "6304b2c246d6999d"
  },
  {
   "cell_type": "code",
   "execution_count": 68,
   "outputs": [
    {
     "name": "stdout",
     "output_type": "stream",
     "text": [
      "        00  000  0000  00001  0000127445  0000127476  0000128219  00001c  \\\n",
      "0      0.0  0.0   0.0    0.0         0.0         0.0         0.0     0.0   \n",
      "1      0.0  0.0   0.0    0.0         0.0         0.0         0.0     0.0   \n",
      "2      0.0  0.0   0.0    0.0         0.0         0.0         0.0     0.0   \n",
      "3      0.0  0.0   0.0    0.0         0.0         0.0         0.0     0.0   \n",
      "4      0.0  0.0   0.0    0.0         0.0         0.0         0.0     0.0   \n",
      "...    ...  ...   ...    ...         ...         ...         ...     ...   \n",
      "36825  0.0  0.0   0.0    0.0         0.0         0.0         0.0     0.0   \n",
      "36826  0.0  0.0   0.0    0.0         0.0         0.0         0.0     0.0   \n",
      "36827  0.0  0.0   0.0    0.0         0.0         0.0         0.0     0.0   \n",
      "36828  0.0  0.0   0.0    0.0         0.0         0.0         0.0     0.0   \n",
      "36829  0.0  0.0   0.0    0.0         0.0         0.0         0.0     0.0   \n",
      "\n",
      "       0001  000119312518035345  ...  ˈkansəl  ˈkämənˌtāt   δv   πi  \\\n",
      "0       0.0                 0.0  ...      0.0         0.0  0.0  0.0   \n",
      "1       0.0                 0.0  ...      0.0         0.0  0.0  0.0   \n",
      "2       0.0                 0.0  ...      0.0         0.0  0.0  0.0   \n",
      "3       0.0                 0.0  ...      0.0         0.0  0.0  0.0   \n",
      "4       0.0                 0.0  ...      0.0         0.0  0.0  0.0   \n",
      "...     ...                 ...  ...      ...         ...  ...  ...   \n",
      "36825   0.0                 0.0  ...      0.0         0.0  0.0  0.0   \n",
      "36826   0.0                 0.0  ...      0.0         0.0  0.0  0.0   \n",
      "36827   0.0                 0.0  ...      0.0         0.0  0.0  0.0   \n",
      "36828   0.0                 0.0  ...      0.0         0.0  0.0  0.0   \n",
      "36829   0.0                 0.0  ...      0.0         0.0  0.0  0.0   \n",
      "\n",
      "       σύγχρονος   аs  аuthor  након_што_су_1921_године_једне_америчке_новине  \\\n",
      "0            0.0  0.0     0.0                                             0.0   \n",
      "1            0.0  0.0     0.0                                             0.0   \n",
      "2            0.0  0.0     0.0                                             0.0   \n",
      "3            0.0  0.0     0.0                                             0.0   \n",
      "4            0.0  0.0     0.0                                             0.0   \n",
      "...          ...  ...     ...                                             ...   \n",
      "36825        0.0  0.0     0.0                                             0.0   \n",
      "36826        0.0  0.0     0.0                                             0.0   \n",
      "36827        0.0  0.0     0.0                                             0.0   \n",
      "36828        0.0  0.0     0.0                                             0.0   \n",
      "36829        0.0  0.0     0.0                                             0.0   \n",
      "\n",
      "       ﾟヮﾟ  𝓷𝓲𝓬𝓮  \n",
      "0      0.0   0.0  \n",
      "1      0.0   0.0  \n",
      "2      0.0   0.0  \n",
      "3      0.0   0.0  \n",
      "4      0.0   0.0  \n",
      "...    ...   ...  \n",
      "36825  0.0   0.0  \n",
      "36826  0.0   0.0  \n",
      "36827  0.0   0.0  \n",
      "36828  0.0   0.0  \n",
      "36829  0.0   0.0  \n",
      "\n",
      "[36830 rows x 24577 columns]\n"
     ]
    }
   ],
   "source": [
    "from sklearn.feature_extraction.text import TfidfVectorizer\n",
    "\n",
    "\n",
    "# Combine the preprocessed text columns into a single column\n",
    "merged_df['Combined_Text'] = merged_df['Title'] + ' ' + merged_df['Comment Body']\n",
    "\n",
    "# Initialize the TF-IDF vectorizer\n",
    "tfidf_vectorizer = TfidfVectorizer()\n",
    "\n",
    "# Fit and transform the combined text data\n",
    "tfidf_matrix = tfidf_vectorizer.fit_transform(merged_df['Combined_Text'])\n",
    "\n",
    "# Create a DataFrame from the TF-IDF matrix\n",
    "tfidf_df = pd.DataFrame(tfidf_matrix.toarray(), columns=tfidf_vectorizer.get_feature_names_out())\n",
    "\n",
    "# Print the TF-IDF DataFrame\n",
    "print(tfidf_df)\n"
   ],
   "metadata": {
    "collapsed": false,
    "ExecuteTime": {
     "end_time": "2023-10-09T13:19:51.805727Z",
     "start_time": "2023-10-09T13:19:50.327240Z"
    }
   },
   "id": "753b8846bb68556c"
  }
 ],
 "metadata": {
  "kernelspec": {
   "display_name": "Python 3",
   "language": "python",
   "name": "python3"
  },
  "language_info": {
   "codemirror_mode": {
    "name": "ipython",
    "version": 2
   },
   "file_extension": ".py",
   "mimetype": "text/x-python",
   "name": "python",
   "nbconvert_exporter": "python",
   "pygments_lexer": "ipython2",
   "version": "2.7.6"
  }
 },
 "nbformat": 4,
 "nbformat_minor": 5
}
