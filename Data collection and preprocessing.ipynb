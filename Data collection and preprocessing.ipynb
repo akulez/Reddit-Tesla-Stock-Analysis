{
 "cells": [
  {
   "cell_type": "code",
   "execution_count": 1,
   "id": "initial_id",
   "metadata": {
    "collapsed": true,
    "ExecuteTime": {
     "end_time": "2023-10-10T13:17:59.749348Z",
     "start_time": "2023-10-10T13:17:59.520519Z"
    }
   },
   "outputs": [],
   "source": [
    "import praw\n",
    "reddit = praw.Reddit(\n",
    "    client_id=\"gRHEFX9H4lWzqR3HTNI-xg\",\n",
    "    client_secret=\"QFt-7pifzSBA1eNkG6NLnuK7zOZJrQ\",\n",
    "    user_agent=\"Assignment1_CityU\",\n",
    ")"
   ]
  },
  {
   "cell_type": "code",
   "execution_count": 2,
   "outputs": [],
   "source": [
    "import pandas as pd\n",
    "\n",
    "# Create empty lists to store data\n",
    "combined_data = []\n",
    "\n",
    "posts = reddit.subreddit('elonmusk').top(limit=None)\n",
    "\n",
    "# Collect data from posts\n",
    "for post in posts:\n",
    "    post_data = {\n",
    "        'Title': post.title,\n",
    "        'Post ID': post.id,\n",
    "        'Author': str(post.author),\n",
    "        'URL': post.url,\n",
    "        'Score': post.score,\n",
    "        'Comment Count': post.num_comments,\n",
    "        'Created': post.created_utc,\n",
    "    }\n",
    "    combined_data.append(post_data)\n",
    "\n",
    "    # Collect data from comments for the current post\n",
    "    for comment in post.comments.list():\n",
    "        if isinstance(comment, praw.models.Comment):\n",
    "            comment_data = {\n",
    "                'Title': post.title,  # Use the post's title for the comment\n",
    "                'Post ID': post.id,  # Use the post's ID for the comment\n",
    "                'Author': str(comment.author),\n",
    "                'URL': post.url,  # Use the post's URL for the comment\n",
    "                'Score': comment.score,\n",
    "                'Comment Count': 0,  # Comments on comments are not tracked\n",
    "                'Created': comment.created_utc,\n",
    "                'Comment Body': comment.body,\n",
    "                'Comment Author': str(comment.author),\n",
    "            }\n",
    "            combined_data.append(comment_data)\n",
    "\n",
    "# Create a DataFrame from the collected data\n",
    "df = pd.DataFrame(combined_data)"
   ],
   "metadata": {
    "collapsed": false,
    "ExecuteTime": {
     "end_time": "2023-10-10T13:35:11.286216Z",
     "start_time": "2023-10-10T13:17:59.759958Z"
    }
   },
   "id": "dff38b8ef4d8f1a5"
  },
  {
   "cell_type": "code",
   "execution_count": 3,
   "outputs": [
    {
     "data": {
      "text/plain": "                                                   Title  Post ID  \\\n0                 Elon Musk Leaves Presidential Councils   6epd1s   \n1                 Elon Musk Leaves Presidential Councils   6epd1s   \n2                 Elon Musk Leaves Presidential Councils   6epd1s   \n3                 Elon Musk Leaves Presidential Councils   6epd1s   \n4                 Elon Musk Leaves Presidential Councils   6epd1s   \n...                                                  ...      ...   \n82210  Elon: \"Illegal immigration needs to stop, but ...  16vj5q0   \n82211  Elon: \"Illegal immigration needs to stop, but ...  16vj5q0   \n82212  Elon: \"Illegal immigration needs to stop, but ...  16vj5q0   \n82213  Elon: \"Illegal immigration needs to stop, but ...  16vj5q0   \n82214  Elon: \"Illegal immigration needs to stop, but ...  16vj5q0   \n\n                     Author  \\\n0                      None   \n1                Litterball   \n2                golfprokal   \n3                  suredoit   \n4      RiseoftheTrumpwaffen   \n...                     ...   \n82210              stout365   \n82211                AJDx14   \n82212              PantherU   \n82213              OSUfan88   \n82214                AJDx14   \n\n                                                     URL  Score  \\\n0      https://twitter.com/elonmusk/status/8703699158...  47862   \n1      https://twitter.com/elonmusk/status/8703699158...   9706   \n2      https://twitter.com/elonmusk/status/8703699158...   2257   \n3      https://twitter.com/elonmusk/status/8703699158...    576   \n4      https://twitter.com/elonmusk/status/8703699158...    496   \n...                                                  ...    ...   \n82210  https://twitter.com/elonmusk/status/1707809181...      0   \n82211  https://twitter.com/elonmusk/status/1707809181...      2   \n82212  https://twitter.com/elonmusk/status/1707809181...      0   \n82213  https://twitter.com/elonmusk/status/1707809181...      3   \n82214  https://twitter.com/elonmusk/status/1707809181...     -2   \n\n       Comment Count       Created  \\\n0               2032  1.496347e+09   \n1                  0  1.496348e+09   \n2                  0  1.496350e+09   \n3                  0  1.496349e+09   \n4                  0  1.496349e+09   \n...              ...           ...   \n82210              0  1.696017e+09   \n82211              0  1.696103e+09   \n82212              0  1.696291e+09   \n82213              0  1.696104e+09   \n82214              0  1.696104e+09   \n\n                                            Comment Body        Comment Author  \n0                                                    NaN                   NaN  \n1      There is really no point in staying on as an a...            Litterball  \n2          On watch for a stupid Trump tweet about Elon.            golfprokal  \n3             I am surprised this isnt on /r/Futurology               suredoit  \n4      I guess all that 'the only way to deal with Tr...  RiseoftheTrumpwaffen  \n...                                                  ...                   ...  \n82210                     lol all good, words are hard 🤣              stout365  \n82211  Immigration: the action of coming to live perm...                AJDx14  \n82212  Yeah, decriminalize drugs and the cartel goes ...              PantherU  \n82213  Personally, I think we should bet who we let i...              OSUfan88  \n82214  What do you mean by “than our system can take”...                AJDx14  \n\n[82215 rows x 9 columns]",
      "text/html": "<div>\n<style scoped>\n    .dataframe tbody tr th:only-of-type {\n        vertical-align: middle;\n    }\n\n    .dataframe tbody tr th {\n        vertical-align: top;\n    }\n\n    .dataframe thead th {\n        text-align: right;\n    }\n</style>\n<table border=\"1\" class=\"dataframe\">\n  <thead>\n    <tr style=\"text-align: right;\">\n      <th></th>\n      <th>Title</th>\n      <th>Post ID</th>\n      <th>Author</th>\n      <th>URL</th>\n      <th>Score</th>\n      <th>Comment Count</th>\n      <th>Created</th>\n      <th>Comment Body</th>\n      <th>Comment Author</th>\n    </tr>\n  </thead>\n  <tbody>\n    <tr>\n      <th>0</th>\n      <td>Elon Musk Leaves Presidential Councils</td>\n      <td>6epd1s</td>\n      <td>None</td>\n      <td>https://twitter.com/elonmusk/status/8703699158...</td>\n      <td>47862</td>\n      <td>2032</td>\n      <td>1.496347e+09</td>\n      <td>NaN</td>\n      <td>NaN</td>\n    </tr>\n    <tr>\n      <th>1</th>\n      <td>Elon Musk Leaves Presidential Councils</td>\n      <td>6epd1s</td>\n      <td>Litterball</td>\n      <td>https://twitter.com/elonmusk/status/8703699158...</td>\n      <td>9706</td>\n      <td>0</td>\n      <td>1.496348e+09</td>\n      <td>There is really no point in staying on as an a...</td>\n      <td>Litterball</td>\n    </tr>\n    <tr>\n      <th>2</th>\n      <td>Elon Musk Leaves Presidential Councils</td>\n      <td>6epd1s</td>\n      <td>golfprokal</td>\n      <td>https://twitter.com/elonmusk/status/8703699158...</td>\n      <td>2257</td>\n      <td>0</td>\n      <td>1.496350e+09</td>\n      <td>On watch for a stupid Trump tweet about Elon.</td>\n      <td>golfprokal</td>\n    </tr>\n    <tr>\n      <th>3</th>\n      <td>Elon Musk Leaves Presidential Councils</td>\n      <td>6epd1s</td>\n      <td>suredoit</td>\n      <td>https://twitter.com/elonmusk/status/8703699158...</td>\n      <td>576</td>\n      <td>0</td>\n      <td>1.496349e+09</td>\n      <td>I am surprised this isnt on /r/Futurology</td>\n      <td>suredoit</td>\n    </tr>\n    <tr>\n      <th>4</th>\n      <td>Elon Musk Leaves Presidential Councils</td>\n      <td>6epd1s</td>\n      <td>RiseoftheTrumpwaffen</td>\n      <td>https://twitter.com/elonmusk/status/8703699158...</td>\n      <td>496</td>\n      <td>0</td>\n      <td>1.496349e+09</td>\n      <td>I guess all that 'the only way to deal with Tr...</td>\n      <td>RiseoftheTrumpwaffen</td>\n    </tr>\n    <tr>\n      <th>...</th>\n      <td>...</td>\n      <td>...</td>\n      <td>...</td>\n      <td>...</td>\n      <td>...</td>\n      <td>...</td>\n      <td>...</td>\n      <td>...</td>\n      <td>...</td>\n    </tr>\n    <tr>\n      <th>82210</th>\n      <td>Elon: \"Illegal immigration needs to stop, but ...</td>\n      <td>16vj5q0</td>\n      <td>stout365</td>\n      <td>https://twitter.com/elonmusk/status/1707809181...</td>\n      <td>0</td>\n      <td>0</td>\n      <td>1.696017e+09</td>\n      <td>lol all good, words are hard 🤣</td>\n      <td>stout365</td>\n    </tr>\n    <tr>\n      <th>82211</th>\n      <td>Elon: \"Illegal immigration needs to stop, but ...</td>\n      <td>16vj5q0</td>\n      <td>AJDx14</td>\n      <td>https://twitter.com/elonmusk/status/1707809181...</td>\n      <td>2</td>\n      <td>0</td>\n      <td>1.696103e+09</td>\n      <td>Immigration: the action of coming to live perm...</td>\n      <td>AJDx14</td>\n    </tr>\n    <tr>\n      <th>82212</th>\n      <td>Elon: \"Illegal immigration needs to stop, but ...</td>\n      <td>16vj5q0</td>\n      <td>PantherU</td>\n      <td>https://twitter.com/elonmusk/status/1707809181...</td>\n      <td>0</td>\n      <td>0</td>\n      <td>1.696291e+09</td>\n      <td>Yeah, decriminalize drugs and the cartel goes ...</td>\n      <td>PantherU</td>\n    </tr>\n    <tr>\n      <th>82213</th>\n      <td>Elon: \"Illegal immigration needs to stop, but ...</td>\n      <td>16vj5q0</td>\n      <td>OSUfan88</td>\n      <td>https://twitter.com/elonmusk/status/1707809181...</td>\n      <td>3</td>\n      <td>0</td>\n      <td>1.696104e+09</td>\n      <td>Personally, I think we should bet who we let i...</td>\n      <td>OSUfan88</td>\n    </tr>\n    <tr>\n      <th>82214</th>\n      <td>Elon: \"Illegal immigration needs to stop, but ...</td>\n      <td>16vj5q0</td>\n      <td>AJDx14</td>\n      <td>https://twitter.com/elonmusk/status/1707809181...</td>\n      <td>-2</td>\n      <td>0</td>\n      <td>1.696104e+09</td>\n      <td>What do you mean by “than our system can take”...</td>\n      <td>AJDx14</td>\n    </tr>\n  </tbody>\n</table>\n<p>82215 rows × 9 columns</p>\n</div>"
     },
     "execution_count": 3,
     "metadata": {},
     "output_type": "execute_result"
    }
   ],
   "source": [
    "df"
   ],
   "metadata": {
    "collapsed": false,
    "ExecuteTime": {
     "end_time": "2023-10-10T13:35:11.298494Z",
     "start_time": "2023-10-10T13:35:11.289522Z"
    }
   },
   "id": "c58aa8bc4d2b8397"
  },
  {
   "cell_type": "code",
   "execution_count": 4,
   "outputs": [],
   "source": [
    "df.to_csv('reddit_data.csv', index=False)"
   ],
   "metadata": {
    "collapsed": false,
    "ExecuteTime": {
     "end_time": "2023-10-10T13:35:11.634374Z",
     "start_time": "2023-10-10T13:35:11.298856Z"
    }
   },
   "id": "4f7fa8bc534e157"
  },
  {
   "cell_type": "code",
   "execution_count": 5,
   "outputs": [
    {
     "name": "stdout",
     "output_type": "stream",
     "text": [
      "Requirement already satisfied: langdetect in /opt/homebrew/anaconda3/lib/python3.10/site-packages (1.0.9)\r\n",
      "Requirement already satisfied: six in /opt/homebrew/anaconda3/lib/python3.10/site-packages (from langdetect) (1.16.0)\r\n"
     ]
    }
   ],
   "source": [
    "! pip install langdetect"
   ],
   "metadata": {
    "collapsed": false,
    "ExecuteTime": {
     "end_time": "2023-10-10T13:35:14.263633Z",
     "start_time": "2023-10-10T13:35:11.636378Z"
    }
   },
   "id": "926c2a7b2f459b8d"
  },
  {
   "cell_type": "code",
   "execution_count": 2,
   "outputs": [],
   "source": [
    "import langdetect # Import the language detection function\n",
    "import pandas as pd\n",
    "\n",
    "# Load the existing DataFrame from a CSV file\n",
    "df = pd.read_csv('reddit_data.csv')\n",
    "# Create a function to detect the language of a text\n",
    "def detect_language(text):\n",
    "    try:\n",
    "        return langdetect.detect(text)\n",
    "    except:\n",
    "        return 'unknown'  # Handle cases where language detection fails\n",
    "\n",
    "# Apply the language detection function to the 'Title' and 'Comment Body' columns\n",
    "df['Title Language'] = df['Title'].apply(detect_language)\n",
    "df['Comment Language'] = df['Comment Body'].apply(detect_language)\n",
    "\n"
   ],
   "metadata": {
    "collapsed": false,
    "ExecuteTime": {
     "end_time": "2023-10-15T11:29:21.613696Z",
     "start_time": "2023-10-15T11:19:12.093986Z"
    }
   },
   "id": "306188da7e1f1840"
  },
  {
   "cell_type": "code",
   "execution_count": 3,
   "outputs": [
    {
     "data": {
      "text/plain": "                                                   Title  Post ID  \\\n0                 Elon Musk Leaves Presidential Councils   6epd1s   \n1                 Elon Musk Leaves Presidential Councils   6epd1s   \n2                 Elon Musk Leaves Presidential Councils   6epd1s   \n3                 Elon Musk Leaves Presidential Councils   6epd1s   \n4                 Elon Musk Leaves Presidential Councils   6epd1s   \n...                                                  ...      ...   \n82210  Elon: \"Illegal immigration needs to stop, but ...  16vj5q0   \n82211  Elon: \"Illegal immigration needs to stop, but ...  16vj5q0   \n82212  Elon: \"Illegal immigration needs to stop, but ...  16vj5q0   \n82213  Elon: \"Illegal immigration needs to stop, but ...  16vj5q0   \n82214  Elon: \"Illegal immigration needs to stop, but ...  16vj5q0   \n\n                     Author  \\\n0                       NaN   \n1                Litterball   \n2                golfprokal   \n3                  suredoit   \n4      RiseoftheTrumpwaffen   \n...                     ...   \n82210              stout365   \n82211                AJDx14   \n82212              PantherU   \n82213              OSUfan88   \n82214                AJDx14   \n\n                                                     URL  Score  \\\n0      https://twitter.com/elonmusk/status/8703699158...  47862   \n1      https://twitter.com/elonmusk/status/8703699158...   9706   \n2      https://twitter.com/elonmusk/status/8703699158...   2257   \n3      https://twitter.com/elonmusk/status/8703699158...    576   \n4      https://twitter.com/elonmusk/status/8703699158...    496   \n...                                                  ...    ...   \n82210  https://twitter.com/elonmusk/status/1707809181...      0   \n82211  https://twitter.com/elonmusk/status/1707809181...      2   \n82212  https://twitter.com/elonmusk/status/1707809181...      0   \n82213  https://twitter.com/elonmusk/status/1707809181...      3   \n82214  https://twitter.com/elonmusk/status/1707809181...     -2   \n\n       Comment Count       Created  \\\n0               2032  1.496347e+09   \n1                  0  1.496348e+09   \n2                  0  1.496350e+09   \n3                  0  1.496349e+09   \n4                  0  1.496349e+09   \n...              ...           ...   \n82210              0  1.696017e+09   \n82211              0  1.696103e+09   \n82212              0  1.696291e+09   \n82213              0  1.696104e+09   \n82214              0  1.696104e+09   \n\n                                            Comment Body  \\\n0                                                    NaN   \n1      There is really no point in staying on as an a...   \n2          On watch for a stupid Trump tweet about Elon.   \n3             I am surprised this isnt on /r/Futurology    \n4      I guess all that 'the only way to deal with Tr...   \n...                                                  ...   \n82210                     lol all good, words are hard 🤣   \n82211  Immigration: the action of coming to live perm...   \n82212  Yeah, decriminalize drugs and the cartel goes ...   \n82213  Personally, I think we should bet who we let i...   \n82214  What do you mean by “than our system can take”...   \n\n             Comment Author Title Language Comment Language  \n0                       NaN             en          unknown  \n1                Litterball             en               en  \n2                golfprokal             ca               en  \n3                  suredoit             en               en  \n4      RiseoftheTrumpwaffen             en               en  \n...                     ...            ...              ...  \n82210              stout365             en               en  \n82211                AJDx14             en               en  \n82212              PantherU             en               en  \n82213              OSUfan88             en               en  \n82214                AJDx14             en               en  \n\n[82215 rows x 11 columns]",
      "text/html": "<div>\n<style scoped>\n    .dataframe tbody tr th:only-of-type {\n        vertical-align: middle;\n    }\n\n    .dataframe tbody tr th {\n        vertical-align: top;\n    }\n\n    .dataframe thead th {\n        text-align: right;\n    }\n</style>\n<table border=\"1\" class=\"dataframe\">\n  <thead>\n    <tr style=\"text-align: right;\">\n      <th></th>\n      <th>Title</th>\n      <th>Post ID</th>\n      <th>Author</th>\n      <th>URL</th>\n      <th>Score</th>\n      <th>Comment Count</th>\n      <th>Created</th>\n      <th>Comment Body</th>\n      <th>Comment Author</th>\n      <th>Title Language</th>\n      <th>Comment Language</th>\n    </tr>\n  </thead>\n  <tbody>\n    <tr>\n      <th>0</th>\n      <td>Elon Musk Leaves Presidential Councils</td>\n      <td>6epd1s</td>\n      <td>NaN</td>\n      <td>https://twitter.com/elonmusk/status/8703699158...</td>\n      <td>47862</td>\n      <td>2032</td>\n      <td>1.496347e+09</td>\n      <td>NaN</td>\n      <td>NaN</td>\n      <td>en</td>\n      <td>unknown</td>\n    </tr>\n    <tr>\n      <th>1</th>\n      <td>Elon Musk Leaves Presidential Councils</td>\n      <td>6epd1s</td>\n      <td>Litterball</td>\n      <td>https://twitter.com/elonmusk/status/8703699158...</td>\n      <td>9706</td>\n      <td>0</td>\n      <td>1.496348e+09</td>\n      <td>There is really no point in staying on as an a...</td>\n      <td>Litterball</td>\n      <td>en</td>\n      <td>en</td>\n    </tr>\n    <tr>\n      <th>2</th>\n      <td>Elon Musk Leaves Presidential Councils</td>\n      <td>6epd1s</td>\n      <td>golfprokal</td>\n      <td>https://twitter.com/elonmusk/status/8703699158...</td>\n      <td>2257</td>\n      <td>0</td>\n      <td>1.496350e+09</td>\n      <td>On watch for a stupid Trump tweet about Elon.</td>\n      <td>golfprokal</td>\n      <td>ca</td>\n      <td>en</td>\n    </tr>\n    <tr>\n      <th>3</th>\n      <td>Elon Musk Leaves Presidential Councils</td>\n      <td>6epd1s</td>\n      <td>suredoit</td>\n      <td>https://twitter.com/elonmusk/status/8703699158...</td>\n      <td>576</td>\n      <td>0</td>\n      <td>1.496349e+09</td>\n      <td>I am surprised this isnt on /r/Futurology</td>\n      <td>suredoit</td>\n      <td>en</td>\n      <td>en</td>\n    </tr>\n    <tr>\n      <th>4</th>\n      <td>Elon Musk Leaves Presidential Councils</td>\n      <td>6epd1s</td>\n      <td>RiseoftheTrumpwaffen</td>\n      <td>https://twitter.com/elonmusk/status/8703699158...</td>\n      <td>496</td>\n      <td>0</td>\n      <td>1.496349e+09</td>\n      <td>I guess all that 'the only way to deal with Tr...</td>\n      <td>RiseoftheTrumpwaffen</td>\n      <td>en</td>\n      <td>en</td>\n    </tr>\n    <tr>\n      <th>...</th>\n      <td>...</td>\n      <td>...</td>\n      <td>...</td>\n      <td>...</td>\n      <td>...</td>\n      <td>...</td>\n      <td>...</td>\n      <td>...</td>\n      <td>...</td>\n      <td>...</td>\n      <td>...</td>\n    </tr>\n    <tr>\n      <th>82210</th>\n      <td>Elon: \"Illegal immigration needs to stop, but ...</td>\n      <td>16vj5q0</td>\n      <td>stout365</td>\n      <td>https://twitter.com/elonmusk/status/1707809181...</td>\n      <td>0</td>\n      <td>0</td>\n      <td>1.696017e+09</td>\n      <td>lol all good, words are hard 🤣</td>\n      <td>stout365</td>\n      <td>en</td>\n      <td>en</td>\n    </tr>\n    <tr>\n      <th>82211</th>\n      <td>Elon: \"Illegal immigration needs to stop, but ...</td>\n      <td>16vj5q0</td>\n      <td>AJDx14</td>\n      <td>https://twitter.com/elonmusk/status/1707809181...</td>\n      <td>2</td>\n      <td>0</td>\n      <td>1.696103e+09</td>\n      <td>Immigration: the action of coming to live perm...</td>\n      <td>AJDx14</td>\n      <td>en</td>\n      <td>en</td>\n    </tr>\n    <tr>\n      <th>82212</th>\n      <td>Elon: \"Illegal immigration needs to stop, but ...</td>\n      <td>16vj5q0</td>\n      <td>PantherU</td>\n      <td>https://twitter.com/elonmusk/status/1707809181...</td>\n      <td>0</td>\n      <td>0</td>\n      <td>1.696291e+09</td>\n      <td>Yeah, decriminalize drugs and the cartel goes ...</td>\n      <td>PantherU</td>\n      <td>en</td>\n      <td>en</td>\n    </tr>\n    <tr>\n      <th>82213</th>\n      <td>Elon: \"Illegal immigration needs to stop, but ...</td>\n      <td>16vj5q0</td>\n      <td>OSUfan88</td>\n      <td>https://twitter.com/elonmusk/status/1707809181...</td>\n      <td>3</td>\n      <td>0</td>\n      <td>1.696104e+09</td>\n      <td>Personally, I think we should bet who we let i...</td>\n      <td>OSUfan88</td>\n      <td>en</td>\n      <td>en</td>\n    </tr>\n    <tr>\n      <th>82214</th>\n      <td>Elon: \"Illegal immigration needs to stop, but ...</td>\n      <td>16vj5q0</td>\n      <td>AJDx14</td>\n      <td>https://twitter.com/elonmusk/status/1707809181...</td>\n      <td>-2</td>\n      <td>0</td>\n      <td>1.696104e+09</td>\n      <td>What do you mean by “than our system can take”...</td>\n      <td>AJDx14</td>\n      <td>en</td>\n      <td>en</td>\n    </tr>\n  </tbody>\n</table>\n<p>82215 rows × 11 columns</p>\n</div>"
     },
     "execution_count": 3,
     "metadata": {},
     "output_type": "execute_result"
    }
   ],
   "source": [
    "df"
   ],
   "metadata": {
    "collapsed": false,
    "ExecuteTime": {
     "end_time": "2023-10-15T11:40:11.390546Z",
     "start_time": "2023-10-15T11:40:11.357984Z"
    }
   },
   "id": "b6085620bd32715e"
  },
  {
   "cell_type": "code",
   "execution_count": 5,
   "outputs": [
    {
     "data": {
      "text/plain": "Title Language\nen         61742\nde          1762\nunknown     1372\ncy          1340\net          1336\nnl          1329\nid          1281\nes          1187\ntl          1075\nfr          1042\naf          1033\nca          1001\nda           887\nfi           806\nsv           751\nso           705\nno           538\npt           454\nvi           424\nit           424\nro           328\nsk           307\nhu           283\nsl           160\nsq           141\nsw           133\npl           131\nhr           126\ntr            68\ncs            49\nName: count, dtype: int64"
     },
     "execution_count": 5,
     "metadata": {},
     "output_type": "execute_result"
    }
   ],
   "source": [
    "df['Title Language'].value_counts()"
   ],
   "metadata": {
    "collapsed": false,
    "ExecuteTime": {
     "end_time": "2023-10-15T11:43:14.885743Z",
     "start_time": "2023-10-15T11:43:14.875578Z"
    }
   },
   "id": "b157bf2051605d4c"
  },
  {
   "cell_type": "code",
   "execution_count": 6,
   "outputs": [
    {
     "data": {
      "text/plain": "Comment Language\nen         67367\nda          2740\nunknown     1803\nsl           980\nro           746\naf           731\nde           710\nfr           678\nso           668\ncy           547\nnl           538\ntl           445\nno           390\net           376\nit           376\nes           362\nid           344\ntr           281\nca           280\nfi           248\npt           245\nsv           203\nhr           197\nsw           192\npl           187\nvi           176\nsq            87\nsk            70\ncs            63\nlt            58\nhu            55\nlv            29\nru            22\nuk             5\nbg             5\nhe             4\nja             3\nar             1\nhi             1\nkn             1\nmk             1\nName: count, dtype: int64"
     },
     "execution_count": 6,
     "metadata": {},
     "output_type": "execute_result"
    }
   ],
   "source": [
    "df['Comment Language'].value_counts()"
   ],
   "metadata": {
    "collapsed": false,
    "ExecuteTime": {
     "end_time": "2023-10-15T11:51:25.851253Z",
     "start_time": "2023-10-15T11:51:25.839303Z"
    }
   },
   "id": "fa99a8c245b8a1df"
  },
  {
   "cell_type": "code",
   "execution_count": 21,
   "outputs": [
    {
     "data": {
      "text/plain": "Comment Language\nen         67367\nda          2740\nunknown     1803\nsl           980\nro           746\naf           731\nde           710\nfr           678\nso           668\ncy           547\nName: count, dtype: int64"
     },
     "execution_count": 21,
     "metadata": {},
     "output_type": "execute_result"
    }
   ],
   "source": [
    "df['Comment Language'].value_counts().head(10)"
   ],
   "metadata": {
    "collapsed": false,
    "ExecuteTime": {
     "end_time": "2023-10-17T17:10:48.638425Z",
     "start_time": "2023-10-17T17:10:48.622251Z"
    }
   },
   "id": "7787f0db5e1a4b7c"
  },
  {
   "cell_type": "code",
   "execution_count": 24,
   "outputs": [
    {
     "data": {
      "text/plain": "<Axes: xlabel='Comment Language'>"
     },
     "execution_count": 24,
     "metadata": {},
     "output_type": "execute_result"
    },
    {
     "data": {
      "text/plain": "<Figure size 640x480 with 1 Axes>",
      "image/png": "[encoded data removed]"
     },
     "metadata": {},
     "output_type": "display_data"
    }
   ],
   "source": [
    "import seaborn as sns\n",
    "sns.barplot(y=df['Comment Language'].value_counts().head(10).values, x=df['Comment Language'].value_counts().head(10).index )\n"
   ],
   "metadata": {
    "collapsed": false,
    "ExecuteTime": {
     "end_time": "2023-10-17T17:12:14.819042Z",
     "start_time": "2023-10-17T17:12:14.723098Z"
    }
   },
   "id": "43b728bde419b4a"
  },
  {
   "cell_type": "code",
   "execution_count": 33,
   "outputs": [
    {
     "ename": "AttributeError",
     "evalue": "module 'seaborn' has no attribute 'pie'",
     "output_type": "error",
     "traceback": [
      "\u001B[0;31m---------------------------------------------------------------------------\u001B[0m",
      "\u001B[0;31mAttributeError\u001B[0m                            Traceback (most recent call last)",
      "Cell \u001B[0;32mIn[33], line 1\u001B[0m\n\u001B[0;32m----> 1\u001B[0m \u001B[43msns\u001B[49m\u001B[38;5;241;43m.\u001B[39;49m\u001B[43mpie\u001B[49m(y\u001B[38;5;241m=\u001B[39mdf[\u001B[38;5;124m'\u001B[39m\u001B[38;5;124mTitle Language\u001B[39m\u001B[38;5;124m'\u001B[39m]\u001B[38;5;241m.\u001B[39mvalue_counts()\u001B[38;5;241m.\u001B[39mhead(\u001B[38;5;241m10\u001B[39m)\u001B[38;5;241m.\u001B[39mvalues, x\u001B[38;5;241m=\u001B[39mdf[\u001B[38;5;124m'\u001B[39m\u001B[38;5;124mTitle Language\u001B[39m\u001B[38;5;124m'\u001B[39m]\u001B[38;5;241m.\u001B[39mvalue_counts()\u001B[38;5;241m.\u001B[39mhead(\u001B[38;5;241m10\u001B[39m)\u001B[38;5;241m.\u001B[39mindex )\n",
      "\u001B[0;31mAttributeError\u001B[0m: module 'seaborn' has no attribute 'pie'"
     ]
    }
   ],
   "source": [
    "sns.barplot(y=df['Title Language'].value_counts().head(10).values, x=df['Title Language'].value_counts().head(10).index )\n"
   ],
   "metadata": {
    "collapsed": false,
    "ExecuteTime": {
     "end_time": "2023-10-17T17:27:08.737941Z",
     "start_time": "2023-10-17T17:27:08.700924Z"
    }
   },
   "id": "d15a78bbf160f4de"
  },
  {
   "cell_type": "code",
   "execution_count": null,
   "outputs": [],
   "source": [],
   "metadata": {
    "collapsed": false
   },
   "id": "3665ef58ab18c2d0"
  },
  {
   "cell_type": "code",
   "execution_count": 10,
   "outputs": [
    {
     "data": {
      "text/plain": "                                                   Title  Post ID  \\\n0                 Elon Musk Leaves Presidential Councils   6epd1s   \n293               Elon Musk Leaves Presidential Councils   6epd1s   \n487    Elon Musk's 18 year transformation after found...   6xz0md   \n653    Elon Musk's 18 year transformation after found...   6xz0md   \n656    Elon Musk's 18 year transformation after found...   6xz0md   \n...                                                  ...      ...   \n81826                   I love this description of Elon.   l94cmx   \n81864                            X Æ A-12. What a legend   gdz87i   \n81928  Opinionated politician opens her mouth and get...   u4dltu   \n82014  X rolls out new ad format that can't be report...  171ixdw   \n82084  Elon: \"Illegal immigration needs to stop, but ...  16vj5q0   \n\n             Author                                                URL  Score  \\\n0               NaN  https://twitter.com/elonmusk/status/8703699158...  47862   \n293       mdgraller  https://twitter.com/elonmusk/status/8703699158...    169   \n487         abhangu                 https://i.redd.it/s0fvyktmmtjz.jpg  16777   \n653        mspk7305                 https://i.redd.it/s0fvyktmmtjz.jpg      2   \n656          puetzk                 https://i.redd.it/s0fvyktmmtjz.jpg      1   \n...             ...                                                ...    ...   \n81826     Alex55936                https://i.redd.it/0bor7rvtgle61.jpg   1486   \n81864      sAdB0i69                https://i.redd.it/6daq7g27nyw41.png   1485   \n81928  TheWoodchuck                https://i.redd.it/atra15lxcqt81.png   1480   \n82014         Mront  https://mashable.com/article/twitter-x-new-cli...   1436   \n82084       twinbee  https://twitter.com/elonmusk/status/1707809181...   1267   \n\n       Comment Count       Created  \\\n0               2032  1.496347e+09   \n293                0  1.496359e+09   \n487              595  1.504512e+09   \n653                0  1.504550e+09   \n656                0  1.507418e+09   \n...              ...           ...   \n81826             70  1.612067e+09   \n81864             64  1.588691e+09   \n81928            101  1.650045e+09   \n82014            212  1.696615e+09   \n82084            785  1.696012e+09   \n\n                                            Comment Body Comment Author  \\\n0                                                    NaN            NaN   \n293                             http://imgur.com/a/wuAxH      mdgraller   \n487                                                  NaN            NaN   \n653                       http://i.imgur.com/MeAZhTt.png       mspk7305   \n656    http://www.collegehumor.com/video/6902998/bald...         puetzk   \n...                                                  ...            ...   \n81826                                                NaN            NaN   \n81864                                                NaN            NaN   \n81928                                                NaN            NaN   \n82014                                                NaN            NaN   \n82084                                                NaN            NaN   \n\n      Title Language Comment Language  \n0                 en          unknown  \n293               es          unknown  \n487               en          unknown  \n653               en          unknown  \n656               en          unknown  \n...              ...              ...  \n81826             en          unknown  \n81864             hu          unknown  \n81928             en          unknown  \n82014             en          unknown  \n82084             en          unknown  \n\n[1803 rows x 11 columns]",
      "text/html": "<div>\n<style scoped>\n    .dataframe tbody tr th:only-of-type {\n        vertical-align: middle;\n    }\n\n    .dataframe tbody tr th {\n        vertical-align: top;\n    }\n\n    .dataframe thead th {\n        text-align: right;\n    }\n</style>\n<table border=\"1\" class=\"dataframe\">\n  <thead>\n    <tr style=\"text-align: right;\">\n      <th></th>\n      <th>Title</th>\n      <th>Post ID</th>\n      <th>Author</th>\n      <th>URL</th>\n      <th>Score</th>\n      <th>Comment Count</th>\n      <th>Created</th>\n      <th>Comment Body</th>\n      <th>Comment Author</th>\n      <th>Title Language</th>\n      <th>Comment Language</th>\n    </tr>\n  </thead>\n  <tbody>\n    <tr>\n      <th>0</th>\n      <td>Elon Musk Leaves Presidential Councils</td>\n      <td>6epd1s</td>\n      <td>NaN</td>\n      <td>https://twitter.com/elonmusk/status/8703699158...</td>\n      <td>47862</td>\n      <td>2032</td>\n      <td>1.496347e+09</td>\n      <td>NaN</td>\n      <td>NaN</td>\n      <td>en</td>\n      <td>unknown</td>\n    </tr>\n    <tr>\n      <th>293</th>\n      <td>Elon Musk Leaves Presidential Councils</td>\n      <td>6epd1s</td>\n      <td>mdgraller</td>\n      <td>https://twitter.com/elonmusk/status/8703699158...</td>\n      <td>169</td>\n      <td>0</td>\n      <td>1.496359e+09</td>\n      <td>http://imgur.com/a/wuAxH</td>\n      <td>mdgraller</td>\n      <td>es</td>\n      <td>unknown</td>\n    </tr>\n    <tr>\n      <th>487</th>\n      <td>Elon Musk's 18 year transformation after found...</td>\n      <td>6xz0md</td>\n      <td>abhangu</td>\n      <td>https://i.redd.it/s0fvyktmmtjz.jpg</td>\n      <td>16777</td>\n      <td>595</td>\n      <td>1.504512e+09</td>\n      <td>NaN</td>\n      <td>NaN</td>\n      <td>en</td>\n      <td>unknown</td>\n    </tr>\n    <tr>\n      <th>653</th>\n      <td>Elon Musk's 18 year transformation after found...</td>\n      <td>6xz0md</td>\n      <td>mspk7305</td>\n      <td>https://i.redd.it/s0fvyktmmtjz.jpg</td>\n      <td>2</td>\n      <td>0</td>\n      <td>1.504550e+09</td>\n      <td>http://i.imgur.com/MeAZhTt.png</td>\n      <td>mspk7305</td>\n      <td>en</td>\n      <td>unknown</td>\n    </tr>\n    <tr>\n      <th>656</th>\n      <td>Elon Musk's 18 year transformation after found...</td>\n      <td>6xz0md</td>\n      <td>puetzk</td>\n      <td>https://i.redd.it/s0fvyktmmtjz.jpg</td>\n      <td>1</td>\n      <td>0</td>\n      <td>1.507418e+09</td>\n      <td>http://www.collegehumor.com/video/6902998/bald...</td>\n      <td>puetzk</td>\n      <td>en</td>\n      <td>unknown</td>\n    </tr>\n    <tr>\n      <th>...</th>\n      <td>...</td>\n      <td>...</td>\n      <td>...</td>\n      <td>...</td>\n      <td>...</td>\n      <td>...</td>\n      <td>...</td>\n      <td>...</td>\n      <td>...</td>\n      <td>...</td>\n      <td>...</td>\n    </tr>\n    <tr>\n      <th>81826</th>\n      <td>I love this description of Elon.</td>\n      <td>l94cmx</td>\n      <td>Alex55936</td>\n      <td>https://i.redd.it/0bor7rvtgle61.jpg</td>\n      <td>1486</td>\n      <td>70</td>\n      <td>1.612067e+09</td>\n      <td>NaN</td>\n      <td>NaN</td>\n      <td>en</td>\n      <td>unknown</td>\n    </tr>\n    <tr>\n      <th>81864</th>\n      <td>X Æ A-12. What a legend</td>\n      <td>gdz87i</td>\n      <td>sAdB0i69</td>\n      <td>https://i.redd.it/6daq7g27nyw41.png</td>\n      <td>1485</td>\n      <td>64</td>\n      <td>1.588691e+09</td>\n      <td>NaN</td>\n      <td>NaN</td>\n      <td>hu</td>\n      <td>unknown</td>\n    </tr>\n    <tr>\n      <th>81928</th>\n      <td>Opinionated politician opens her mouth and get...</td>\n      <td>u4dltu</td>\n      <td>TheWoodchuck</td>\n      <td>https://i.redd.it/atra15lxcqt81.png</td>\n      <td>1480</td>\n      <td>101</td>\n      <td>1.650045e+09</td>\n      <td>NaN</td>\n      <td>NaN</td>\n      <td>en</td>\n      <td>unknown</td>\n    </tr>\n    <tr>\n      <th>82014</th>\n      <td>X rolls out new ad format that can't be report...</td>\n      <td>171ixdw</td>\n      <td>Mront</td>\n      <td>https://mashable.com/article/twitter-x-new-cli...</td>\n      <td>1436</td>\n      <td>212</td>\n      <td>1.696615e+09</td>\n      <td>NaN</td>\n      <td>NaN</td>\n      <td>en</td>\n      <td>unknown</td>\n    </tr>\n    <tr>\n      <th>82084</th>\n      <td>Elon: \"Illegal immigration needs to stop, but ...</td>\n      <td>16vj5q0</td>\n      <td>twinbee</td>\n      <td>https://twitter.com/elonmusk/status/1707809181...</td>\n      <td>1267</td>\n      <td>785</td>\n      <td>1.696012e+09</td>\n      <td>NaN</td>\n      <td>NaN</td>\n      <td>en</td>\n      <td>unknown</td>\n    </tr>\n  </tbody>\n</table>\n<p>1803 rows × 11 columns</p>\n</div>"
     },
     "execution_count": 10,
     "metadata": {},
     "output_type": "execute_result"
    }
   ],
   "source": [
    "df[df['Comment Language']=='unknown']"
   ],
   "metadata": {
    "collapsed": false,
    "ExecuteTime": {
     "end_time": "2023-10-15T12:25:04.638041Z",
     "start_time": "2023-10-15T12:25:04.624048Z"
    }
   },
   "id": "4ca236d57dbe6258"
  },
  {
   "cell_type": "code",
   "execution_count": 26,
   "outputs": [
    {
     "name": "stdout",
     "output_type": "stream",
     "text": [
      "Collecting wordcloud\r\n",
      "  Downloading wordcloud-1.9.2.tar.gz (222 kB)\r\n",
      "\u001B[2K     \u001B[90m━━━━━━━━━━━━━━━━━━━━━━━━━━━━━━━━━━━━━━\u001B[0m \u001B[32m222.8/222.8 kB\u001B[0m \u001B[31m12.2 MB/s\u001B[0m eta \u001B[36m0:00:00\u001B[0m\r\n",
      "\u001B[?25h  Preparing metadata (setup.py) ... \u001B[?25ldone\r\n",
      "\u001B[?25hRequirement already satisfied: numpy>=1.6.1 in /opt/homebrew/anaconda3/lib/python3.10/site-packages (from wordcloud) (1.23.5)\r\n",
      "Requirement already satisfied: pillow in /opt/homebrew/anaconda3/lib/python3.10/site-packages (from wordcloud) (9.4.0)\r\n",
      "Requirement already satisfied: matplotlib in /opt/homebrew/anaconda3/lib/python3.10/site-packages (from wordcloud) (3.7.2)\r\n",
      "Requirement already satisfied: kiwisolver>=1.0.1 in /opt/homebrew/anaconda3/lib/python3.10/site-packages (from matplotlib->wordcloud) (1.4.4)\r\n",
      "Requirement already satisfied: fonttools>=4.22.0 in /opt/homebrew/anaconda3/lib/python3.10/site-packages (from matplotlib->wordcloud) (4.25.0)\r\n",
      "Requirement already satisfied: contourpy>=1.0.1 in /opt/homebrew/anaconda3/lib/python3.10/site-packages (from matplotlib->wordcloud) (1.0.5)\r\n",
      "Requirement already satisfied: pyparsing<3.1,>=2.3.1 in /opt/homebrew/anaconda3/lib/python3.10/site-packages (from matplotlib->wordcloud) (3.0.9)\r\n",
      "Requirement already satisfied: python-dateutil>=2.7 in /opt/homebrew/anaconda3/lib/python3.10/site-packages (from matplotlib->wordcloud) (2.8.2)\r\n",
      "Requirement already satisfied: cycler>=0.10 in /opt/homebrew/anaconda3/lib/python3.10/site-packages (from matplotlib->wordcloud) (0.11.0)\r\n",
      "Requirement already satisfied: packaging>=20.0 in /opt/homebrew/anaconda3/lib/python3.10/site-packages (from matplotlib->wordcloud) (22.0)\r\n",
      "Requirement already satisfied: six>=1.5 in /opt/homebrew/anaconda3/lib/python3.10/site-packages (from python-dateutil>=2.7->matplotlib->wordcloud) (1.16.0)\r\n",
      "Building wheels for collected packages: wordcloud\r\n",
      "  Building wheel for wordcloud (setup.py) ... \u001B[?25ldone\r\n",
      "\u001B[?25h  Created wheel for wordcloud: filename=wordcloud-1.9.2-cp310-cp310-macosx_11_0_arm64.whl size=151899 sha256=e1f68dc02b22aa4bbb48ef16099aac15d6160a0f2f963a7aec955e24e548f86e\r\n",
      "  Stored in directory: /Users/jesse/Library/Caches/pip/wheels/90/19/0b/f5cad0167bc462f4f87cbd86590c27afbe599d5a37011bcf78\r\n",
      "Successfully built wordcloud\r\n",
      "Installing collected packages: wordcloud\r\n",
      "Successfully installed wordcloud-1.9.2\r\n"
     ]
    }
   ],
   "source": [
    "!pip install wordcloud"
   ],
   "metadata": {
    "collapsed": false,
    "ExecuteTime": {
     "end_time": "2023-10-17T17:16:38.430685Z",
     "start_time": "2023-10-17T17:16:29.528665Z"
    }
   },
   "id": "789a854b32850063"
  },
  {
   "cell_type": "code",
   "execution_count": 32,
   "outputs": [
    {
     "data": {
      "text/plain": "array([':)', ':)', ':)', ..., '🤣', '🤣', '🤣'], dtype=object)"
     },
     "execution_count": 32,
     "metadata": {},
     "output_type": "execute_result"
    }
   ],
   "source": [
    "df[df['Title Language']=='unknown']['Title'].values"
   ],
   "metadata": {
    "collapsed": false,
    "ExecuteTime": {
     "end_time": "2023-10-17T17:21:34.240457Z",
     "start_time": "2023-10-17T17:21:34.230509Z"
    }
   },
   "id": "bc229bc701cfbf82"
  },
  {
   "cell_type": "code",
   "execution_count": 31,
   "outputs": [
    {
     "ename": "ValueError",
     "evalue": "We need at least 1 word to plot a word cloud, got 0.",
     "output_type": "error",
     "traceback": [
      "\u001B[0;31m---------------------------------------------------------------------------\u001B[0m",
      "\u001B[0;31mValueError\u001B[0m                                Traceback (most recent call last)",
      "Cell \u001B[0;32mIn[31], line 5\u001B[0m\n\u001B[1;32m      2\u001B[0m \u001B[38;5;28;01mimport\u001B[39;00m \u001B[38;5;21;01mmatplotlib\u001B[39;00m\u001B[38;5;21;01m.\u001B[39;00m\u001B[38;5;21;01mpyplot\u001B[39;00m \u001B[38;5;28;01mas\u001B[39;00m \u001B[38;5;21;01mplt\u001B[39;00m\n\u001B[1;32m      3\u001B[0m text \u001B[38;5;241m=\u001B[39m df[df[\u001B[38;5;124m'\u001B[39m\u001B[38;5;124mTitle Language\u001B[39m\u001B[38;5;124m'\u001B[39m]\u001B[38;5;241m==\u001B[39m\u001B[38;5;124m'\u001B[39m\u001B[38;5;124munknown\u001B[39m\u001B[38;5;124m'\u001B[39m][\u001B[38;5;124m'\u001B[39m\u001B[38;5;124mTitle\u001B[39m\u001B[38;5;124m'\u001B[39m]\u001B[38;5;241m.\u001B[39mvalues\n\u001B[0;32m----> 5\u001B[0m wordcloud \u001B[38;5;241m=\u001B[39m \u001B[43mWordCloud\u001B[49m\u001B[43m(\u001B[49m\u001B[43m)\u001B[49m\u001B[38;5;241;43m.\u001B[39;49m\u001B[43mgenerate\u001B[49m\u001B[43m(\u001B[49m\u001B[38;5;28;43mstr\u001B[39;49m\u001B[43m(\u001B[49m\u001B[43mtext\u001B[49m\u001B[43m)\u001B[49m\u001B[43m)\u001B[49m\n\u001B[1;32m      7\u001B[0m plt\u001B[38;5;241m.\u001B[39mimshow(wordcloud)\n\u001B[1;32m      8\u001B[0m plt\u001B[38;5;241m.\u001B[39maxis(\u001B[38;5;124m\"\u001B[39m\u001B[38;5;124moff\u001B[39m\u001B[38;5;124m\"\u001B[39m)\n",
      "File \u001B[0;32m/opt/homebrew/anaconda3/lib/python3.10/site-packages/wordcloud/wordcloud.py:639\u001B[0m, in \u001B[0;36mWordCloud.generate\u001B[0;34m(self, text)\u001B[0m\n\u001B[1;32m    624\u001B[0m \u001B[38;5;28;01mdef\u001B[39;00m \u001B[38;5;21mgenerate\u001B[39m(\u001B[38;5;28mself\u001B[39m, text):\n\u001B[1;32m    625\u001B[0m \u001B[38;5;250m    \u001B[39m\u001B[38;5;124;03m\"\"\"Generate wordcloud from text.\u001B[39;00m\n\u001B[1;32m    626\u001B[0m \n\u001B[1;32m    627\u001B[0m \u001B[38;5;124;03m    The input \"text\" is expected to be a natural text. If you pass a sorted\u001B[39;00m\n\u001B[0;32m   (...)\u001B[0m\n\u001B[1;32m    637\u001B[0m \u001B[38;5;124;03m    self\u001B[39;00m\n\u001B[1;32m    638\u001B[0m \u001B[38;5;124;03m    \"\"\"\u001B[39;00m\n\u001B[0;32m--> 639\u001B[0m     \u001B[38;5;28;01mreturn\u001B[39;00m \u001B[38;5;28;43mself\u001B[39;49m\u001B[38;5;241;43m.\u001B[39;49m\u001B[43mgenerate_from_text\u001B[49m\u001B[43m(\u001B[49m\u001B[43mtext\u001B[49m\u001B[43m)\u001B[49m\n",
      "File \u001B[0;32m/opt/homebrew/anaconda3/lib/python3.10/site-packages/wordcloud/wordcloud.py:621\u001B[0m, in \u001B[0;36mWordCloud.generate_from_text\u001B[0;34m(self, text)\u001B[0m\n\u001B[1;32m    604\u001B[0m \u001B[38;5;250m\u001B[39m\u001B[38;5;124;03m\"\"\"Generate wordcloud from text.\u001B[39;00m\n\u001B[1;32m    605\u001B[0m \n\u001B[1;32m    606\u001B[0m \u001B[38;5;124;03mThe input \"text\" is expected to be a natural text. If you pass a sorted\u001B[39;00m\n\u001B[0;32m   (...)\u001B[0m\n\u001B[1;32m    618\u001B[0m \u001B[38;5;124;03mself\u001B[39;00m\n\u001B[1;32m    619\u001B[0m \u001B[38;5;124;03m\"\"\"\u001B[39;00m\n\u001B[1;32m    620\u001B[0m words \u001B[38;5;241m=\u001B[39m \u001B[38;5;28mself\u001B[39m\u001B[38;5;241m.\u001B[39mprocess_text(text)\n\u001B[0;32m--> 621\u001B[0m \u001B[38;5;28;43mself\u001B[39;49m\u001B[38;5;241;43m.\u001B[39;49m\u001B[43mgenerate_from_frequencies\u001B[49m\u001B[43m(\u001B[49m\u001B[43mwords\u001B[49m\u001B[43m)\u001B[49m\n\u001B[1;32m    622\u001B[0m \u001B[38;5;28;01mreturn\u001B[39;00m \u001B[38;5;28mself\u001B[39m\n",
      "File \u001B[0;32m/opt/homebrew/anaconda3/lib/python3.10/site-packages/wordcloud/wordcloud.py:410\u001B[0m, in \u001B[0;36mWordCloud.generate_from_frequencies\u001B[0;34m(self, frequencies, max_font_size)\u001B[0m\n\u001B[1;32m    408\u001B[0m frequencies \u001B[38;5;241m=\u001B[39m \u001B[38;5;28msorted\u001B[39m(frequencies\u001B[38;5;241m.\u001B[39mitems(), key\u001B[38;5;241m=\u001B[39mitemgetter(\u001B[38;5;241m1\u001B[39m), reverse\u001B[38;5;241m=\u001B[39m\u001B[38;5;28;01mTrue\u001B[39;00m)\n\u001B[1;32m    409\u001B[0m \u001B[38;5;28;01mif\u001B[39;00m \u001B[38;5;28mlen\u001B[39m(frequencies) \u001B[38;5;241m<\u001B[39m\u001B[38;5;241m=\u001B[39m \u001B[38;5;241m0\u001B[39m:\n\u001B[0;32m--> 410\u001B[0m     \u001B[38;5;28;01mraise\u001B[39;00m \u001B[38;5;167;01mValueError\u001B[39;00m(\u001B[38;5;124m\"\u001B[39m\u001B[38;5;124mWe need at least 1 word to plot a word cloud, \u001B[39m\u001B[38;5;124m\"\u001B[39m\n\u001B[1;32m    411\u001B[0m                      \u001B[38;5;124m\"\u001B[39m\u001B[38;5;124mgot \u001B[39m\u001B[38;5;132;01m%d\u001B[39;00m\u001B[38;5;124m.\u001B[39m\u001B[38;5;124m\"\u001B[39m \u001B[38;5;241m%\u001B[39m \u001B[38;5;28mlen\u001B[39m(frequencies))\n\u001B[1;32m    412\u001B[0m frequencies \u001B[38;5;241m=\u001B[39m frequencies[:\u001B[38;5;28mself\u001B[39m\u001B[38;5;241m.\u001B[39mmax_words]\n\u001B[1;32m    414\u001B[0m \u001B[38;5;66;03m# largest entry will be 1\u001B[39;00m\n",
      "\u001B[0;31mValueError\u001B[0m: We need at least 1 word to plot a word cloud, got 0."
     ]
    }
   ],
   "source": [
    "from wordcloud import WordCloud\n",
    "import matplotlib.pyplot as plt\n",
    "text = df[df['Title Language']=='unknown']['Title'].values\n",
    "\n",
    "wordcloud = WordCloud().generate(str(text))\n",
    "\n",
    "plt.imshow(wordcloud)\n",
    "plt.axis(\"off\")\n",
    "plt.show()"
   ],
   "metadata": {
    "collapsed": false,
    "ExecuteTime": {
     "end_time": "2023-10-17T17:20:58.834722Z",
     "start_time": "2023-10-17T17:20:58.799238Z"
    }
   },
   "id": "5c6a79a200f47bd2"
  },
  {
   "cell_type": "code",
   "execution_count": 11,
   "outputs": [
    {
     "data": {
      "text/plain": "      Title Post ID            Author                                  URL  \\\n16267    :)  hiikrs      VitoOnTheWay  https://i.redd.it/aq2lovff20851.png   \n16268    :)  hiikrs  Some_Belgian_Guy  https://i.redd.it/aq2lovff20851.png   \n16269    :)  hiikrs   StefaniaCarpano  https://i.redd.it/aq2lovff20851.png   \n16270    :)  hiikrs               NaN  https://i.redd.it/aq2lovff20851.png   \n16271    :)  hiikrs           GenKaYY  https://i.redd.it/aq2lovff20851.png   \n...     ...     ...               ...                                  ...   \n81126     🤣  w6hu6v      TheresBeesMC  https://i.redd.it/5pjiumq0ped91.jpg   \n81127     🤣  w6hu6v         Mr-Happy9  https://i.redd.it/5pjiumq0ped91.jpg   \n81128     🤣  w6hu6v     Degloved_Hand  https://i.redd.it/5pjiumq0ped91.jpg   \n81129     🤣  w6hu6v       Hullababoob  https://i.redd.it/5pjiumq0ped91.jpg   \n81130     🤣  w6hu6v     Degloved_Hand  https://i.redd.it/5pjiumq0ped91.jpg   \n\n       Score  Comment Count       Created  \\\n16267   3736             76  1.593502e+09   \n16268     71              0  1.593509e+09   \n16269     36              0  1.593511e+09   \n16270     12              0  1.593511e+09   \n16271     22              0  1.593511e+09   \n...      ...            ...           ...   \n81126      3              0  1.658659e+09   \n81127      2              0  1.658700e+09   \n81128      2              0  1.658644e+09   \n81129      4              0  1.658646e+09   \n81130      0              0  1.658647e+09   \n\n                                            Comment Body    Comment Author  \\\n16267                                                NaN               NaN   \n16268                          I wax my rocket every day  Some_Belgian_Guy   \n16269       Ladies, get a man who can fly his rockets...   StefaniaCarpano   \n16270                       I look at a rocket everyday🐕               NaN   \n16271  I love this subreddit and appreciate the posts...           GenKaYY   \n...                                                  ...               ...   \n81126                  Bruh South Africa is a country 🇿🇦      TheresBeesMC   \n81127                                                  🗿         Mr-Happy9   \n81128                                               Sure     Degloved_Hand   \n81129     Hmm. Yes. New Zealand is in Australia. Mm-hmm.       Hullababoob   \n81130                                            LIES!!!     Degloved_Hand   \n\n      Title Language Comment Language  \n16267        unknown          unknown  \n16268        unknown               en  \n16269        unknown               en  \n16270        unknown               en  \n16271        unknown               en  \n...              ...              ...  \n81126        unknown               en  \n81127        unknown          unknown  \n81128        unknown               af  \n81129        unknown               en  \n81130        unknown               de  \n\n[1372 rows x 11 columns]",
      "text/html": "<div>\n<style scoped>\n    .dataframe tbody tr th:only-of-type {\n        vertical-align: middle;\n    }\n\n    .dataframe tbody tr th {\n        vertical-align: top;\n    }\n\n    .dataframe thead th {\n        text-align: right;\n    }\n</style>\n<table border=\"1\" class=\"dataframe\">\n  <thead>\n    <tr style=\"text-align: right;\">\n      <th></th>\n      <th>Title</th>\n      <th>Post ID</th>\n      <th>Author</th>\n      <th>URL</th>\n      <th>Score</th>\n      <th>Comment Count</th>\n      <th>Created</th>\n      <th>Comment Body</th>\n      <th>Comment Author</th>\n      <th>Title Language</th>\n      <th>Comment Language</th>\n    </tr>\n  </thead>\n  <tbody>\n    <tr>\n      <th>16267</th>\n      <td>:)</td>\n      <td>hiikrs</td>\n      <td>VitoOnTheWay</td>\n      <td>https://i.redd.it/aq2lovff20851.png</td>\n      <td>3736</td>\n      <td>76</td>\n      <td>1.593502e+09</td>\n      <td>NaN</td>\n      <td>NaN</td>\n      <td>unknown</td>\n      <td>unknown</td>\n    </tr>\n    <tr>\n      <th>16268</th>\n      <td>:)</td>\n      <td>hiikrs</td>\n      <td>Some_Belgian_Guy</td>\n      <td>https://i.redd.it/aq2lovff20851.png</td>\n      <td>71</td>\n      <td>0</td>\n      <td>1.593509e+09</td>\n      <td>I wax my rocket every day</td>\n      <td>Some_Belgian_Guy</td>\n      <td>unknown</td>\n      <td>en</td>\n    </tr>\n    <tr>\n      <th>16269</th>\n      <td>:)</td>\n      <td>hiikrs</td>\n      <td>StefaniaCarpano</td>\n      <td>https://i.redd.it/aq2lovff20851.png</td>\n      <td>36</td>\n      <td>0</td>\n      <td>1.593511e+09</td>\n      <td>Ladies, get a man who can fly his rockets...</td>\n      <td>StefaniaCarpano</td>\n      <td>unknown</td>\n      <td>en</td>\n    </tr>\n    <tr>\n      <th>16270</th>\n      <td>:)</td>\n      <td>hiikrs</td>\n      <td>NaN</td>\n      <td>https://i.redd.it/aq2lovff20851.png</td>\n      <td>12</td>\n      <td>0</td>\n      <td>1.593511e+09</td>\n      <td>I look at a rocket everyday🐕</td>\n      <td>NaN</td>\n      <td>unknown</td>\n      <td>en</td>\n    </tr>\n    <tr>\n      <th>16271</th>\n      <td>:)</td>\n      <td>hiikrs</td>\n      <td>GenKaYY</td>\n      <td>https://i.redd.it/aq2lovff20851.png</td>\n      <td>22</td>\n      <td>0</td>\n      <td>1.593511e+09</td>\n      <td>I love this subreddit and appreciate the posts...</td>\n      <td>GenKaYY</td>\n      <td>unknown</td>\n      <td>en</td>\n    </tr>\n    <tr>\n      <th>...</th>\n      <td>...</td>\n      <td>...</td>\n      <td>...</td>\n      <td>...</td>\n      <td>...</td>\n      <td>...</td>\n      <td>...</td>\n      <td>...</td>\n      <td>...</td>\n      <td>...</td>\n      <td>...</td>\n    </tr>\n    <tr>\n      <th>81126</th>\n      <td>🤣</td>\n      <td>w6hu6v</td>\n      <td>TheresBeesMC</td>\n      <td>https://i.redd.it/5pjiumq0ped91.jpg</td>\n      <td>3</td>\n      <td>0</td>\n      <td>1.658659e+09</td>\n      <td>Bruh South Africa is a country 🇿🇦</td>\n      <td>TheresBeesMC</td>\n      <td>unknown</td>\n      <td>en</td>\n    </tr>\n    <tr>\n      <th>81127</th>\n      <td>🤣</td>\n      <td>w6hu6v</td>\n      <td>Mr-Happy9</td>\n      <td>https://i.redd.it/5pjiumq0ped91.jpg</td>\n      <td>2</td>\n      <td>0</td>\n      <td>1.658700e+09</td>\n      <td>🗿</td>\n      <td>Mr-Happy9</td>\n      <td>unknown</td>\n      <td>unknown</td>\n    </tr>\n    <tr>\n      <th>81128</th>\n      <td>🤣</td>\n      <td>w6hu6v</td>\n      <td>Degloved_Hand</td>\n      <td>https://i.redd.it/5pjiumq0ped91.jpg</td>\n      <td>2</td>\n      <td>0</td>\n      <td>1.658644e+09</td>\n      <td>Sure</td>\n      <td>Degloved_Hand</td>\n      <td>unknown</td>\n      <td>af</td>\n    </tr>\n    <tr>\n      <th>81129</th>\n      <td>🤣</td>\n      <td>w6hu6v</td>\n      <td>Hullababoob</td>\n      <td>https://i.redd.it/5pjiumq0ped91.jpg</td>\n      <td>4</td>\n      <td>0</td>\n      <td>1.658646e+09</td>\n      <td>Hmm. Yes. New Zealand is in Australia. Mm-hmm.</td>\n      <td>Hullababoob</td>\n      <td>unknown</td>\n      <td>en</td>\n    </tr>\n    <tr>\n      <th>81130</th>\n      <td>🤣</td>\n      <td>w6hu6v</td>\n      <td>Degloved_Hand</td>\n      <td>https://i.redd.it/5pjiumq0ped91.jpg</td>\n      <td>0</td>\n      <td>0</td>\n      <td>1.658647e+09</td>\n      <td>LIES!!!</td>\n      <td>Degloved_Hand</td>\n      <td>unknown</td>\n      <td>de</td>\n    </tr>\n  </tbody>\n</table>\n<p>1372 rows × 11 columns</p>\n</div>"
     },
     "execution_count": 11,
     "metadata": {},
     "output_type": "execute_result"
    }
   ],
   "source": [
    "df[df['Title Language']=='unknown']"
   ],
   "metadata": {
    "collapsed": false,
    "ExecuteTime": {
     "end_time": "2023-10-17T16:44:50.115331Z",
     "start_time": "2023-10-17T16:44:50.090965Z"
    }
   },
   "id": "abbe80f3b2ae6d8d"
  },
  {
   "cell_type": "code",
   "execution_count": 8,
   "outputs": [
    {
     "data": {
      "text/plain": "(50999, 11)"
     },
     "execution_count": 8,
     "metadata": {},
     "output_type": "execute_result"
    }
   ],
   "source": [
    "# Filter only English posts and comments\n",
    "english_df = df[(df['Title Language'] == 'en') & (df['Comment Language'] == 'en')]\n",
    "english_df.shape"
   ],
   "metadata": {
    "collapsed": false,
    "ExecuteTime": {
     "end_time": "2023-10-15T12:10:40.793821Z",
     "start_time": "2023-10-15T12:10:40.781128Z"
    }
   },
   "id": "55bbbef166cb0b04"
  },
  {
   "cell_type": "code",
   "execution_count": null,
   "outputs": [],
   "source": [
    "\n",
    "# Filter only English posts and comments\n",
    "english_df = df[(df['Title Language'] == 'en') & (df['Comment Language'] == 'en')]\n",
    "\n",
    "# Drop the language detection columns\n",
    "english_df.drop(['Title Language', 'Comment Language'], axis=1, inplace=True)\n",
    "\n",
    "# Save the DataFrame with English posts and comments to a new CSV file\n",
    "english_df.to_csv('english_reddit_data.csv', index=False)"
   ],
   "metadata": {
    "collapsed": false
   },
   "id": "7eac8f194768071b"
  },
  {
   "cell_type": "code",
   "execution_count": 29,
   "outputs": [],
   "source": [
    "import pandas as pd\n",
    "# Load the DataFrame with English posts and comments\n",
    "english_df = pd.read_csv('english_reddit_data.csv')\n",
    "\n",
    "# Convert the 'Created' column to a datetime format\n",
    "english_df['Created'] = pd.to_datetime(english_df['Created'], unit='s')\n",
    "english_df['Created'] = pd.to_datetime(english_df['Created'], format='%Y-%m-%d %H:%M:%S')"
   ],
   "metadata": {
    "collapsed": false,
    "ExecuteTime": {
     "end_time": "2023-10-13T06:23:46.435109Z",
     "start_time": "2023-10-13T06:23:46.203115Z"
    }
   },
   "id": "713b55d831737c27"
  },
  {
   "cell_type": "code",
   "execution_count": 30,
   "outputs": [
    {
     "data": {
      "text/plain": "                                                   Title  Post ID  \\\n0                 Elon Musk Leaves Presidential Councils   6epd1s   \n1                 Elon Musk Leaves Presidential Councils   6epd1s   \n2                 Elon Musk Leaves Presidential Councils   6epd1s   \n3                 Elon Musk Leaves Presidential Councils   6epd1s   \n4                 Elon Musk Leaves Presidential Councils   6epd1s   \n...                                                  ...      ...   \n51055  Elon: \"Illegal immigration needs to stop, but ...  16vj5q0   \n51056  Elon: \"Illegal immigration needs to stop, but ...  16vj5q0   \n51057  Elon: \"Illegal immigration needs to stop, but ...  16vj5q0   \n51058  Elon: \"Illegal immigration needs to stop, but ...  16vj5q0   \n51059  Elon: \"Illegal immigration needs to stop, but ...  16vj5q0   \n\n                     Author  \\\n0                Litterball   \n1      RiseoftheTrumpwaffen   \n2                 mirrorsaw   \n3             ShanghaiBebop   \n4                  jonb3838   \n...                     ...   \n51055              stout365   \n51056                AJDx14   \n51057              PantherU   \n51058              OSUfan88   \n51059                AJDx14   \n\n                                                     URL  Score  \\\n0      https://twitter.com/elonmusk/status/8703699158...   9706   \n1      https://twitter.com/elonmusk/status/8703699158...    496   \n2      https://twitter.com/elonmusk/status/8703699158...    913   \n3      https://twitter.com/elonmusk/status/8703699158...    105   \n4      https://twitter.com/elonmusk/status/8703699158...     35   \n...                                                  ...    ...   \n51055  https://twitter.com/elonmusk/status/1707809181...      0   \n51056  https://twitter.com/elonmusk/status/1707809181...      2   \n51057  https://twitter.com/elonmusk/status/1707809181...      0   \n51058  https://twitter.com/elonmusk/status/1707809181...      3   \n51059  https://twitter.com/elonmusk/status/1707809181...     -2   \n\n       Comment Count             Created  \\\n0                  0 2017-06-01 20:21:23   \n1                  0 2017-06-01 20:31:45   \n2                  0 2017-06-01 20:10:56   \n3                  0 2017-06-01 20:20:45   \n4                  0 2017-06-01 23:52:08   \n...              ...                 ...   \n51055              0 2023-09-29 19:53:36   \n51056              0 2023-09-30 19:50:24   \n51057              0 2023-10-02 23:51:04   \n51058              0 2023-09-30 19:54:00   \n51059              0 2023-09-30 19:59:17   \n\n                                            Comment Body        Comment Author  \n0      There is really no point in staying on as an a...            Litterball  \n1      I guess all that 'the only way to deal with Tr...  RiseoftheTrumpwaffen  \n2      Was there any doubt this man would stick to hi...             mirrorsaw  \n3      I wonder how much trump actually takes as advi...         ShanghaiBebop  \n4      Every President wants to leave a stamp on Amer...              jonb3838  \n...                                                  ...                   ...  \n51055                     lol all good, words are hard 🤣              stout365  \n51056  Immigration: the action of coming to live perm...                AJDx14  \n51057  Yeah, decriminalize drugs and the cartel goes ...              PantherU  \n51058  Personally, I think we should bet who we let i...              OSUfan88  \n51059  What do you mean by “than our system can take”...                AJDx14  \n\n[51060 rows x 9 columns]",
      "text/html": "<div>\n<style scoped>\n    .dataframe tbody tr th:only-of-type {\n        vertical-align: middle;\n    }\n\n    .dataframe tbody tr th {\n        vertical-align: top;\n    }\n\n    .dataframe thead th {\n        text-align: right;\n    }\n</style>\n<table border=\"1\" class=\"dataframe\">\n  <thead>\n    <tr style=\"text-align: right;\">\n      <th></th>\n      <th>Title</th>\n      <th>Post ID</th>\n      <th>Author</th>\n      <th>URL</th>\n      <th>Score</th>\n      <th>Comment Count</th>\n      <th>Created</th>\n      <th>Comment Body</th>\n      <th>Comment Author</th>\n    </tr>\n  </thead>\n  <tbody>\n    <tr>\n      <th>0</th>\n      <td>Elon Musk Leaves Presidential Councils</td>\n      <td>6epd1s</td>\n      <td>Litterball</td>\n      <td>https://twitter.com/elonmusk/status/8703699158...</td>\n      <td>9706</td>\n      <td>0</td>\n      <td>2017-06-01 20:21:23</td>\n      <td>There is really no point in staying on as an a...</td>\n      <td>Litterball</td>\n    </tr>\n    <tr>\n      <th>1</th>\n      <td>Elon Musk Leaves Presidential Councils</td>\n      <td>6epd1s</td>\n      <td>RiseoftheTrumpwaffen</td>\n      <td>https://twitter.com/elonmusk/status/8703699158...</td>\n      <td>496</td>\n      <td>0</td>\n      <td>2017-06-01 20:31:45</td>\n      <td>I guess all that 'the only way to deal with Tr...</td>\n      <td>RiseoftheTrumpwaffen</td>\n    </tr>\n    <tr>\n      <th>2</th>\n      <td>Elon Musk Leaves Presidential Councils</td>\n      <td>6epd1s</td>\n      <td>mirrorsaw</td>\n      <td>https://twitter.com/elonmusk/status/8703699158...</td>\n      <td>913</td>\n      <td>0</td>\n      <td>2017-06-01 20:10:56</td>\n      <td>Was there any doubt this man would stick to hi...</td>\n      <td>mirrorsaw</td>\n    </tr>\n    <tr>\n      <th>3</th>\n      <td>Elon Musk Leaves Presidential Councils</td>\n      <td>6epd1s</td>\n      <td>ShanghaiBebop</td>\n      <td>https://twitter.com/elonmusk/status/8703699158...</td>\n      <td>105</td>\n      <td>0</td>\n      <td>2017-06-01 20:20:45</td>\n      <td>I wonder how much trump actually takes as advi...</td>\n      <td>ShanghaiBebop</td>\n    </tr>\n    <tr>\n      <th>4</th>\n      <td>Elon Musk Leaves Presidential Councils</td>\n      <td>6epd1s</td>\n      <td>jonb3838</td>\n      <td>https://twitter.com/elonmusk/status/8703699158...</td>\n      <td>35</td>\n      <td>0</td>\n      <td>2017-06-01 23:52:08</td>\n      <td>Every President wants to leave a stamp on Amer...</td>\n      <td>jonb3838</td>\n    </tr>\n    <tr>\n      <th>...</th>\n      <td>...</td>\n      <td>...</td>\n      <td>...</td>\n      <td>...</td>\n      <td>...</td>\n      <td>...</td>\n      <td>...</td>\n      <td>...</td>\n      <td>...</td>\n    </tr>\n    <tr>\n      <th>51055</th>\n      <td>Elon: \"Illegal immigration needs to stop, but ...</td>\n      <td>16vj5q0</td>\n      <td>stout365</td>\n      <td>https://twitter.com/elonmusk/status/1707809181...</td>\n      <td>0</td>\n      <td>0</td>\n      <td>2023-09-29 19:53:36</td>\n      <td>lol all good, words are hard 🤣</td>\n      <td>stout365</td>\n    </tr>\n    <tr>\n      <th>51056</th>\n      <td>Elon: \"Illegal immigration needs to stop, but ...</td>\n      <td>16vj5q0</td>\n      <td>AJDx14</td>\n      <td>https://twitter.com/elonmusk/status/1707809181...</td>\n      <td>2</td>\n      <td>0</td>\n      <td>2023-09-30 19:50:24</td>\n      <td>Immigration: the action of coming to live perm...</td>\n      <td>AJDx14</td>\n    </tr>\n    <tr>\n      <th>51057</th>\n      <td>Elon: \"Illegal immigration needs to stop, but ...</td>\n      <td>16vj5q0</td>\n      <td>PantherU</td>\n      <td>https://twitter.com/elonmusk/status/1707809181...</td>\n      <td>0</td>\n      <td>0</td>\n      <td>2023-10-02 23:51:04</td>\n      <td>Yeah, decriminalize drugs and the cartel goes ...</td>\n      <td>PantherU</td>\n    </tr>\n    <tr>\n      <th>51058</th>\n      <td>Elon: \"Illegal immigration needs to stop, but ...</td>\n      <td>16vj5q0</td>\n      <td>OSUfan88</td>\n      <td>https://twitter.com/elonmusk/status/1707809181...</td>\n      <td>3</td>\n      <td>0</td>\n      <td>2023-09-30 19:54:00</td>\n      <td>Personally, I think we should bet who we let i...</td>\n      <td>OSUfan88</td>\n    </tr>\n    <tr>\n      <th>51059</th>\n      <td>Elon: \"Illegal immigration needs to stop, but ...</td>\n      <td>16vj5q0</td>\n      <td>AJDx14</td>\n      <td>https://twitter.com/elonmusk/status/1707809181...</td>\n      <td>-2</td>\n      <td>0</td>\n      <td>2023-09-30 19:59:17</td>\n      <td>What do you mean by “than our system can take”...</td>\n      <td>AJDx14</td>\n    </tr>\n  </tbody>\n</table>\n<p>51060 rows × 9 columns</p>\n</div>"
     },
     "execution_count": 30,
     "metadata": {},
     "output_type": "execute_result"
    }
   ],
   "source": [
    "english_df"
   ],
   "metadata": {
    "collapsed": false,
    "ExecuteTime": {
     "end_time": "2023-10-13T06:23:48.137678Z",
     "start_time": "2023-10-13T06:23:48.131893Z"
    }
   },
   "id": "b8ce7ae47ff57053"
  },
  {
   "cell_type": "code",
   "execution_count": 31,
   "outputs": [
    {
     "data": {
      "text/plain": "              Score  Comment Count                        Created\ncount  51060.000000        51060.0                          51060\nmean       9.689268            0.0  2020-12-07 15:41:56.412396800\nmin     -205.000000            0.0            2016-11-09 19:30:56\n25%        1.000000            0.0  2020-01-03 17:08:40.249999872\n50%        2.000000            0.0            2020-08-17 23:35:36\n75%        6.000000            0.0            2021-11-08 22:09:19\nmax     9706.000000            0.0            2023-10-10 06:13:57\nstd       57.484364            0.0                            NaN",
      "text/html": "<div>\n<style scoped>\n    .dataframe tbody tr th:only-of-type {\n        vertical-align: middle;\n    }\n\n    .dataframe tbody tr th {\n        vertical-align: top;\n    }\n\n    .dataframe thead th {\n        text-align: right;\n    }\n</style>\n<table border=\"1\" class=\"dataframe\">\n  <thead>\n    <tr style=\"text-align: right;\">\n      <th></th>\n      <th>Score</th>\n      <th>Comment Count</th>\n      <th>Created</th>\n    </tr>\n  </thead>\n  <tbody>\n    <tr>\n      <th>count</th>\n      <td>51060.000000</td>\n      <td>51060.0</td>\n      <td>51060</td>\n    </tr>\n    <tr>\n      <th>mean</th>\n      <td>9.689268</td>\n      <td>0.0</td>\n      <td>2020-12-07 15:41:56.412396800</td>\n    </tr>\n    <tr>\n      <th>min</th>\n      <td>-205.000000</td>\n      <td>0.0</td>\n      <td>2016-11-09 19:30:56</td>\n    </tr>\n    <tr>\n      <th>25%</th>\n      <td>1.000000</td>\n      <td>0.0</td>\n      <td>2020-01-03 17:08:40.249999872</td>\n    </tr>\n    <tr>\n      <th>50%</th>\n      <td>2.000000</td>\n      <td>0.0</td>\n      <td>2020-08-17 23:35:36</td>\n    </tr>\n    <tr>\n      <th>75%</th>\n      <td>6.000000</td>\n      <td>0.0</td>\n      <td>2021-11-08 22:09:19</td>\n    </tr>\n    <tr>\n      <th>max</th>\n      <td>9706.000000</td>\n      <td>0.0</td>\n      <td>2023-10-10 06:13:57</td>\n    </tr>\n    <tr>\n      <th>std</th>\n      <td>57.484364</td>\n      <td>0.0</td>\n      <td>NaN</td>\n    </tr>\n  </tbody>\n</table>\n</div>"
     },
     "execution_count": 31,
     "metadata": {},
     "output_type": "execute_result"
    }
   ],
   "source": [
    "english_df.describe()"
   ],
   "metadata": {
    "collapsed": false,
    "ExecuteTime": {
     "end_time": "2023-10-13T06:24:17.649655Z",
     "start_time": "2023-10-13T06:24:17.618316Z"
    }
   },
   "id": "92b6fa125bc4ea3e"
  },
  {
   "cell_type": "code",
   "execution_count": 34,
   "outputs": [
    {
     "data": {
      "text/plain": "0"
     },
     "execution_count": 34,
     "metadata": {},
     "output_type": "execute_result"
    }
   ],
   "source": [
    "english_df['Title'].isnull().sum()"
   ],
   "metadata": {
    "collapsed": false,
    "ExecuteTime": {
     "end_time": "2023-10-13T06:25:55.137321Z",
     "start_time": "2023-10-13T06:25:55.118319Z"
    }
   },
   "id": "41549cbb26d740d3"
  },
  {
   "cell_type": "code",
   "execution_count": 35,
   "outputs": [
    {
     "data": {
      "text/plain": "0"
     },
     "execution_count": 35,
     "metadata": {},
     "output_type": "execute_result"
    }
   ],
   "source": [
    "english_df['Comment Body'].isnull().sum()"
   ],
   "metadata": {
    "collapsed": false,
    "ExecuteTime": {
     "end_time": "2023-10-13T06:26:03.578279Z",
     "start_time": "2023-10-13T06:26:03.573658Z"
    }
   },
   "id": "2447aedbb8079d1d"
  },
  {
   "cell_type": "code",
   "execution_count": 43,
   "outputs": [
    {
     "name": "stderr",
     "output_type": "stream",
     "text": [
      "[nltk_data] Downloading package punkt to /Users/jesse/nltk_data...\n",
      "[nltk_data]   Package punkt is already up-to-date!\n",
      "[nltk_data] Downloading package stopwords to /Users/jesse/nltk_data...\n",
      "[nltk_data]   Package stopwords is already up-to-date!\n"
     ]
    }
   ],
   "source": [
    "from nltk.corpus import stopwords\n",
    "from nltk.stem import PorterStemmer\n",
    "import nltk\n",
    "\n",
    "stop_words = set(stopwords.words('english'))\n",
    "\n",
    "stemmer = PorterStemmer()\n",
    "\n",
    "def preprocess_text(text):\n",
    "    text = text.lower()\n",
    "    text = re.sub('[^a-zA-Z]', ' ', text)\n",
    "    tokens = nltk.word_tokenize(text)\n",
    "    tokens = [stemmer.stem(token) for token in tokens if token not in stop_words]\n",
    "    return ' '.join(tokens)\n",
    "\n",
    "english_df['Comment Body'] = english_df['Comment Body'].apply(preprocess_text)"
   ],
   "metadata": {
    "collapsed": false,
    "ExecuteTime": {
     "end_time": "2023-10-13T06:33:33.884475Z",
     "start_time": "2023-10-13T06:33:23.749281Z"
    }
   },
   "id": "8fdd4f9dbef2efaa"
  },
  {
   "cell_type": "code",
   "execution_count": 44,
   "outputs": [
    {
     "data": {
      "text/plain": "                                                   Title  Post ID  \\\n0                 Elon Musk Leaves Presidential Councils   6epd1s   \n1                 Elon Musk Leaves Presidential Councils   6epd1s   \n2                 Elon Musk Leaves Presidential Councils   6epd1s   \n3                 Elon Musk Leaves Presidential Councils   6epd1s   \n4                 Elon Musk Leaves Presidential Councils   6epd1s   \n...                                                  ...      ...   \n51055  Elon: \"Illegal immigration needs to stop, but ...  16vj5q0   \n51056  Elon: \"Illegal immigration needs to stop, but ...  16vj5q0   \n51057  Elon: \"Illegal immigration needs to stop, but ...  16vj5q0   \n51058  Elon: \"Illegal immigration needs to stop, but ...  16vj5q0   \n51059  Elon: \"Illegal immigration needs to stop, but ...  16vj5q0   \n\n                     Author  \\\n0                Litterball   \n1      RiseoftheTrumpwaffen   \n2                 mirrorsaw   \n3             ShanghaiBebop   \n4                  jonb3838   \n...                     ...   \n51055              stout365   \n51056                AJDx14   \n51057              PantherU   \n51058              OSUfan88   \n51059                AJDx14   \n\n                                                     URL  Score  \\\n0      https://twitter.com/elonmusk/status/8703699158...   9706   \n1      https://twitter.com/elonmusk/status/8703699158...    496   \n2      https://twitter.com/elonmusk/status/8703699158...    913   \n3      https://twitter.com/elonmusk/status/8703699158...    105   \n4      https://twitter.com/elonmusk/status/8703699158...     35   \n...                                                  ...    ...   \n51055  https://twitter.com/elonmusk/status/1707809181...      0   \n51056  https://twitter.com/elonmusk/status/1707809181...      2   \n51057  https://twitter.com/elonmusk/status/1707809181...      0   \n51058  https://twitter.com/elonmusk/status/1707809181...      3   \n51059  https://twitter.com/elonmusk/status/1707809181...     -2   \n\n       Comment Count             Created  \\\n0                  0 2017-06-01 20:21:23   \n1                  0 2017-06-01 20:31:45   \n2                  0 2017-06-01 20:10:56   \n3                  0 2017-06-01 20:20:45   \n4                  0 2017-06-01 23:52:08   \n...              ...                 ...   \n51055              0 2023-09-29 19:53:36   \n51056              0 2023-09-30 19:50:24   \n51057              0 2023-10-02 23:51:04   \n51058              0 2023-09-30 19:54:00   \n51059              0 2023-09-30 19:59:17   \n\n                                            Comment Body        Comment Author  \n0            realli point stay advisor person take advic            Litterball  \n1                          guess way deal trump work pan  RiseoftheTrumpwaffen  \n2                  doubt man would stick word dude wrong             mirrorsaw  \n3      wonder much trump actual take advic presidenti...         ShanghaiBebop  \n4      everi presid want leav stamp america unfortun ...              jonb3838  \n...                                                  ...                   ...  \n51055                                 lol good word hard              stout365  \n51056  immigr action come live perman foreign countri...                AJDx14  \n51057                yeah decrimin drug cartel goe legit              PantherU  \n51058  person think bet let far peopl would like come...              OSUfan88  \n51059                            mean system take though                AJDx14  \n\n[51060 rows x 9 columns]",
      "text/html": "<div>\n<style scoped>\n    .dataframe tbody tr th:only-of-type {\n        vertical-align: middle;\n    }\n\n    .dataframe tbody tr th {\n        vertical-align: top;\n    }\n\n    .dataframe thead th {\n        text-align: right;\n    }\n</style>\n<table border=\"1\" class=\"dataframe\">\n  <thead>\n    <tr style=\"text-align: right;\">\n      <th></th>\n      <th>Title</th>\n      <th>Post ID</th>\n      <th>Author</th>\n      <th>URL</th>\n      <th>Score</th>\n      <th>Comment Count</th>\n      <th>Created</th>\n      <th>Comment Body</th>\n      <th>Comment Author</th>\n    </tr>\n  </thead>\n  <tbody>\n    <tr>\n      <th>0</th>\n      <td>Elon Musk Leaves Presidential Councils</td>\n      <td>6epd1s</td>\n      <td>Litterball</td>\n      <td>https://twitter.com/elonmusk/status/8703699158...</td>\n      <td>9706</td>\n      <td>0</td>\n      <td>2017-06-01 20:21:23</td>\n      <td>realli point stay advisor person take advic</td>\n      <td>Litterball</td>\n    </tr>\n    <tr>\n      <th>1</th>\n      <td>Elon Musk Leaves Presidential Councils</td>\n      <td>6epd1s</td>\n      <td>RiseoftheTrumpwaffen</td>\n      <td>https://twitter.com/elonmusk/status/8703699158...</td>\n      <td>496</td>\n      <td>0</td>\n      <td>2017-06-01 20:31:45</td>\n      <td>guess way deal trump work pan</td>\n      <td>RiseoftheTrumpwaffen</td>\n    </tr>\n    <tr>\n      <th>2</th>\n      <td>Elon Musk Leaves Presidential Councils</td>\n      <td>6epd1s</td>\n      <td>mirrorsaw</td>\n      <td>https://twitter.com/elonmusk/status/8703699158...</td>\n      <td>913</td>\n      <td>0</td>\n      <td>2017-06-01 20:10:56</td>\n      <td>doubt man would stick word dude wrong</td>\n      <td>mirrorsaw</td>\n    </tr>\n    <tr>\n      <th>3</th>\n      <td>Elon Musk Leaves Presidential Councils</td>\n      <td>6epd1s</td>\n      <td>ShanghaiBebop</td>\n      <td>https://twitter.com/elonmusk/status/8703699158...</td>\n      <td>105</td>\n      <td>0</td>\n      <td>2017-06-01 20:20:45</td>\n      <td>wonder much trump actual take advic presidenti...</td>\n      <td>ShanghaiBebop</td>\n    </tr>\n    <tr>\n      <th>4</th>\n      <td>Elon Musk Leaves Presidential Councils</td>\n      <td>6epd1s</td>\n      <td>jonb3838</td>\n      <td>https://twitter.com/elonmusk/status/8703699158...</td>\n      <td>35</td>\n      <td>0</td>\n      <td>2017-06-01 23:52:08</td>\n      <td>everi presid want leav stamp america unfortun ...</td>\n      <td>jonb3838</td>\n    </tr>\n    <tr>\n      <th>...</th>\n      <td>...</td>\n      <td>...</td>\n      <td>...</td>\n      <td>...</td>\n      <td>...</td>\n      <td>...</td>\n      <td>...</td>\n      <td>...</td>\n      <td>...</td>\n    </tr>\n    <tr>\n      <th>51055</th>\n      <td>Elon: \"Illegal immigration needs to stop, but ...</td>\n      <td>16vj5q0</td>\n      <td>stout365</td>\n      <td>https://twitter.com/elonmusk/status/1707809181...</td>\n      <td>0</td>\n      <td>0</td>\n      <td>2023-09-29 19:53:36</td>\n      <td>lol good word hard</td>\n      <td>stout365</td>\n    </tr>\n    <tr>\n      <th>51056</th>\n      <td>Elon: \"Illegal immigration needs to stop, but ...</td>\n      <td>16vj5q0</td>\n      <td>AJDx14</td>\n      <td>https://twitter.com/elonmusk/status/1707809181...</td>\n      <td>2</td>\n      <td>0</td>\n      <td>2023-09-30 19:50:24</td>\n      <td>immigr action come live perman foreign countri...</td>\n      <td>AJDx14</td>\n    </tr>\n    <tr>\n      <th>51057</th>\n      <td>Elon: \"Illegal immigration needs to stop, but ...</td>\n      <td>16vj5q0</td>\n      <td>PantherU</td>\n      <td>https://twitter.com/elonmusk/status/1707809181...</td>\n      <td>0</td>\n      <td>0</td>\n      <td>2023-10-02 23:51:04</td>\n      <td>yeah decrimin drug cartel goe legit</td>\n      <td>PantherU</td>\n    </tr>\n    <tr>\n      <th>51058</th>\n      <td>Elon: \"Illegal immigration needs to stop, but ...</td>\n      <td>16vj5q0</td>\n      <td>OSUfan88</td>\n      <td>https://twitter.com/elonmusk/status/1707809181...</td>\n      <td>3</td>\n      <td>0</td>\n      <td>2023-09-30 19:54:00</td>\n      <td>person think bet let far peopl would like come...</td>\n      <td>OSUfan88</td>\n    </tr>\n    <tr>\n      <th>51059</th>\n      <td>Elon: \"Illegal immigration needs to stop, but ...</td>\n      <td>16vj5q0</td>\n      <td>AJDx14</td>\n      <td>https://twitter.com/elonmusk/status/1707809181...</td>\n      <td>-2</td>\n      <td>0</td>\n      <td>2023-09-30 19:59:17</td>\n      <td>mean system take though</td>\n      <td>AJDx14</td>\n    </tr>\n  </tbody>\n</table>\n<p>51060 rows × 9 columns</p>\n</div>"
     },
     "execution_count": 44,
     "metadata": {},
     "output_type": "execute_result"
    }
   ],
   "source": [
    "english_df"
   ],
   "metadata": {
    "collapsed": false,
    "ExecuteTime": {
     "end_time": "2023-10-13T06:33:50.741230Z",
     "start_time": "2023-10-13T06:33:50.737233Z"
    }
   },
   "id": "ef71bc0a7d5b314b"
  },
  {
   "cell_type": "code",
   "execution_count": 44,
   "outputs": [],
   "source": [],
   "metadata": {
    "collapsed": false,
    "ExecuteTime": {
     "end_time": "2023-10-13T06:34:22.271415Z",
     "start_time": "2023-10-13T06:34:22.256056Z"
    }
   },
   "id": "889bd9a7cb4c46ad"
  },
  {
   "cell_type": "code",
   "execution_count": 45,
   "outputs": [],
   "source": [
    "# Create a new 'Date' column with the desired format '%Y-%m-%d'\n",
    "english_df['Date'] = english_df['Created'].dt.strftime('%Y-%m-%d')"
   ],
   "metadata": {
    "collapsed": false,
    "ExecuteTime": {
     "end_time": "2023-10-13T06:34:22.952034Z",
     "start_time": "2023-10-13T06:34:22.927841Z"
    }
   },
   "id": "b77e751d027096bb"
  },
  {
   "cell_type": "code",
   "execution_count": 46,
   "outputs": [
    {
     "name": "stdout",
     "output_type": "stream",
     "text": [
      "Minimum Date: 2016-11-09\n",
      "Maximum Date: 2023-10-10\n"
     ]
    }
   ],
   "source": [
    "# Extract the minimum and maximum dates\n",
    "min_date = english_df['Date'].min()\n",
    "max_date = english_df['Date'].max()\n",
    "\n",
    "print(f\"Minimum Date: {min_date}\")\n",
    "print(f\"Maximum Date: {max_date}\")"
   ],
   "metadata": {
    "collapsed": false,
    "ExecuteTime": {
     "end_time": "2023-10-13T06:34:25.068092Z",
     "start_time": "2023-10-13T06:34:25.064128Z"
    }
   },
   "id": "a0692bf8e2dc6a0e"
  },
  {
   "cell_type": "code",
   "execution_count": 11,
   "outputs": [],
   "source": [
    "from alpha_vantage.timeseries import TimeSeries\n",
    "\n",
    "# Replace 'YOUR_API_KEY' with your AlphaVantage API key\n",
    "api_key = 'J2OJF6SPJGM94TKD'\n",
    "\n",
    "# Create an instance of the TimeSeries class\n",
    "ts = TimeSeries(key=api_key, output_format='pandas')\n",
    "\n",
    "symbol = 'TSLA'  # Tesla stock symbol\n",
    "\n",
    "\n",
    "# Retrieve historical stock price data from AlphaVantage\n",
    "stock_data, meta_data = ts.get_daily(symbol=symbol, outputsize='full')\n",
    "\n",
    "# Convert the date index to a 'Date' column in the DataFrame\n",
    "stock_data.reset_index(inplace=True)\n",
    "stock_data.to_csv('stock_data.csv', index=False)"
   ],
   "metadata": {
    "collapsed": false,
    "ExecuteTime": {
     "end_time": "2023-10-10T13:43:09.293655Z",
     "start_time": "2023-10-10T13:43:06.061615Z"
    }
   },
   "id": "e93f5caa601eebd1"
  },
  {
   "cell_type": "code",
   "execution_count": 47,
   "outputs": [],
   "source": [
    "# Load your AlphaVantage DataFrame\n",
    "alpha_df = pd.read_csv('stock_data.csv')\n",
    "\n",
    "# Convert the 'Date' column in the AlphaVantage DataFrame to datetime\n",
    "alpha_df['date'] = pd.to_datetime(alpha_df['date'], format='%Y-%m-%d')\n",
    "alpha_df['date'] = alpha_df['date'].dt.strftime('%Y-%m-%d')\n",
    "\n",
    "# Slice the 'alpha_df' DataFrame to select rows within the date range in reddit data\n",
    "alpha_sliced_df = alpha_df.loc[(alpha_df['date'] >= min_date) & (alpha_df['date'] <= max_date)]\n",
    "\n",
    "# Reset the index if needed\n",
    "alpha_sliced_df.reset_index(drop=True, inplace=True)\n",
    "\n",
    "alpha_sliced_df = alpha_sliced_df.rename(columns={'date': 'Date'})\n"
   ],
   "metadata": {
    "collapsed": false,
    "ExecuteTime": {
     "end_time": "2023-10-13T06:34:30.339949Z",
     "start_time": "2023-10-13T06:34:30.321601Z"
    }
   },
   "id": "f4e30c6a65a36f8"
  },
  {
   "cell_type": "code",
   "execution_count": 48,
   "outputs": [
    {
     "data": {
      "text/plain": "            Date  1. open  2. high  3. low  4. close    5. volume\n0     2023-10-09  255.310   261.36  252.05    259.67  101377947.0\n1     2023-10-06  253.980   261.65  250.65    260.53  118121812.0\n2     2023-10-05  260.000   263.60  256.25    260.05  119159214.0\n3     2023-10-04  248.140   261.86  247.60    261.16  129721567.0\n4     2023-10-03  248.610   250.02  244.45    246.53  101985305.0\n...          ...      ...      ...     ...       ...          ...\n1734  2016-11-15  182.780   186.43  182.05    183.77    3902018.0\n1735  2016-11-14  188.000   188.25  178.19    181.45    6552205.0\n1736  2016-11-11  184.240   188.88  183.00    188.56    3988504.0\n1737  2016-11-10  191.050   191.61  180.42    185.35    6750341.0\n1738  2016-11-09  186.875   192.00  183.95    190.06    8173065.0\n\n[1739 rows x 6 columns]",
      "text/html": "<div>\n<style scoped>\n    .dataframe tbody tr th:only-of-type {\n        vertical-align: middle;\n    }\n\n    .dataframe tbody tr th {\n        vertical-align: top;\n    }\n\n    .dataframe thead th {\n        text-align: right;\n    }\n</style>\n<table border=\"1\" class=\"dataframe\">\n  <thead>\n    <tr style=\"text-align: right;\">\n      <th></th>\n      <th>Date</th>\n      <th>1. open</th>\n      <th>2. high</th>\n      <th>3. low</th>\n      <th>4. close</th>\n      <th>5. volume</th>\n    </tr>\n  </thead>\n  <tbody>\n    <tr>\n      <th>0</th>\n      <td>2023-10-09</td>\n      <td>255.310</td>\n      <td>261.36</td>\n      <td>252.05</td>\n      <td>259.67</td>\n      <td>101377947.0</td>\n    </tr>\n    <tr>\n      <th>1</th>\n      <td>2023-10-06</td>\n      <td>253.980</td>\n      <td>261.65</td>\n      <td>250.65</td>\n      <td>260.53</td>\n      <td>118121812.0</td>\n    </tr>\n    <tr>\n      <th>2</th>\n      <td>2023-10-05</td>\n      <td>260.000</td>\n      <td>263.60</td>\n      <td>256.25</td>\n      <td>260.05</td>\n      <td>119159214.0</td>\n    </tr>\n    <tr>\n      <th>3</th>\n      <td>2023-10-04</td>\n      <td>248.140</td>\n      <td>261.86</td>\n      <td>247.60</td>\n      <td>261.16</td>\n      <td>129721567.0</td>\n    </tr>\n    <tr>\n      <th>4</th>\n      <td>2023-10-03</td>\n      <td>248.610</td>\n      <td>250.02</td>\n      <td>244.45</td>\n      <td>246.53</td>\n      <td>101985305.0</td>\n    </tr>\n    <tr>\n      <th>...</th>\n      <td>...</td>\n      <td>...</td>\n      <td>...</td>\n      <td>...</td>\n      <td>...</td>\n      <td>...</td>\n    </tr>\n    <tr>\n      <th>1734</th>\n      <td>2016-11-15</td>\n      <td>182.780</td>\n      <td>186.43</td>\n      <td>182.05</td>\n      <td>183.77</td>\n      <td>3902018.0</td>\n    </tr>\n    <tr>\n      <th>1735</th>\n      <td>2016-11-14</td>\n      <td>188.000</td>\n      <td>188.25</td>\n      <td>178.19</td>\n      <td>181.45</td>\n      <td>6552205.0</td>\n    </tr>\n    <tr>\n      <th>1736</th>\n      <td>2016-11-11</td>\n      <td>184.240</td>\n      <td>188.88</td>\n      <td>183.00</td>\n      <td>188.56</td>\n      <td>3988504.0</td>\n    </tr>\n    <tr>\n      <th>1737</th>\n      <td>2016-11-10</td>\n      <td>191.050</td>\n      <td>191.61</td>\n      <td>180.42</td>\n      <td>185.35</td>\n      <td>6750341.0</td>\n    </tr>\n    <tr>\n      <th>1738</th>\n      <td>2016-11-09</td>\n      <td>186.875</td>\n      <td>192.00</td>\n      <td>183.95</td>\n      <td>190.06</td>\n      <td>8173065.0</td>\n    </tr>\n  </tbody>\n</table>\n<p>1739 rows × 6 columns</p>\n</div>"
     },
     "execution_count": 48,
     "metadata": {},
     "output_type": "execute_result"
    }
   ],
   "source": [
    "alpha_sliced_df"
   ],
   "metadata": {
    "collapsed": false,
    "ExecuteTime": {
     "end_time": "2023-10-13T06:34:32.890049Z",
     "start_time": "2023-10-13T06:34:32.886013Z"
    }
   },
   "id": "b6200e330452e5a9"
  },
  {
   "cell_type": "code",
   "execution_count": 49,
   "outputs": [],
   "source": [
    "# Merge the DataFrames based on the 'Date' column\n",
    "merged_df = pd.merge(english_df,alpha_sliced_df, on='Date', how='inner')\n",
    "# Save the merged data to a CSV file or perform further analysis\n",
    "merged_df.to_csv('merged_data.csv', index=False)"
   ],
   "metadata": {
    "collapsed": false,
    "ExecuteTime": {
     "end_time": "2023-10-13T06:34:38.065007Z",
     "start_time": "2023-10-13T06:34:37.829916Z"
    }
   },
   "id": "bd94cf6fa39092b9"
  },
  {
   "cell_type": "code",
   "execution_count": 50,
   "outputs": [
    {
     "data": {
      "text/plain": "                                                   Title  Post ID  \\\n0                 Elon Musk Leaves Presidential Councils   6epd1s   \n1                 Elon Musk Leaves Presidential Councils   6epd1s   \n2                 Elon Musk Leaves Presidential Councils   6epd1s   \n3                 Elon Musk Leaves Presidential Councils   6epd1s   \n4                 Elon Musk Leaves Presidential Councils   6epd1s   \n...                                                  ...      ...   \n36856  Elon: \"Illegal immigration needs to stop, but ...  16vj5q0   \n36857  Elon: \"Illegal immigration needs to stop, but ...  16vj5q0   \n36858  Elon: \"Illegal immigration needs to stop, but ...  16vj5q0   \n36859  Elon: \"Illegal immigration needs to stop, but ...  16vj5q0   \n36860  Elon: \"Illegal immigration needs to stop, but ...  16vj5q0   \n\n                     Author  \\\n0                Litterball   \n1      RiseoftheTrumpwaffen   \n2                 mirrorsaw   \n3             ShanghaiBebop   \n4                  jonb3838   \n...                     ...   \n36856   AlienWarehouseParty   \n36857          ClickF0rDick   \n36858              stout365   \n36859   AlienWarehouseParty   \n36860              stout365   \n\n                                                     URL  Score  \\\n0      https://twitter.com/elonmusk/status/8703699158...   9706   \n1      https://twitter.com/elonmusk/status/8703699158...    496   \n2      https://twitter.com/elonmusk/status/8703699158...    913   \n3      https://twitter.com/elonmusk/status/8703699158...    105   \n4      https://twitter.com/elonmusk/status/8703699158...     35   \n...                                                  ...    ...   \n36856  https://twitter.com/elonmusk/status/1707809181...     23   \n36857  https://twitter.com/elonmusk/status/1707809181...      1   \n36858  https://twitter.com/elonmusk/status/1707809181...     -3   \n36859  https://twitter.com/elonmusk/status/1707809181...      6   \n36860  https://twitter.com/elonmusk/status/1707809181...      0   \n\n       Comment Count             Created  \\\n0                  0 2017-06-01 20:21:23   \n1                  0 2017-06-01 20:31:45   \n2                  0 2017-06-01 20:10:56   \n3                  0 2017-06-01 20:20:45   \n4                  0 2017-06-01 23:52:08   \n...              ...                 ...   \n36856              0 2023-09-29 19:49:18   \n36857              0 2023-09-29 23:11:50   \n36858              0 2023-09-29 19:51:51   \n36859              0 2023-09-29 19:52:50   \n36860              0 2023-09-29 19:53:36   \n\n                                            Comment Body  \\\n0            realli point stay advisor person take advic   \n1                          guess way deal trump work pan   \n2                  doubt man would stick word dude wrong   \n3      wonder much trump actual take advic presidenti...   \n4      everi presid want leav stamp america unfortun ...   \n...                                                  ...   \n36856  awar need either skill high net worth anoth co...   \n36857                                        cri italian   \n36858  wait initi comment made think say countri lax ...   \n36859                                     bad edit clear   \n36860                                 lol good word hard   \n\n             Comment Author        Date  1. open  2. high  3. low  4. close  \\\n0                Litterball  2017-06-01    344.0   344.88  337.29    340.37   \n1      RiseoftheTrumpwaffen  2017-06-01    344.0   344.88  337.29    340.37   \n2                 mirrorsaw  2017-06-01    344.0   344.88  337.29    340.37   \n3             ShanghaiBebop  2017-06-01    344.0   344.88  337.29    340.37   \n4                  jonb3838  2017-06-01    344.0   344.88  337.29    340.37   \n...                     ...         ...      ...      ...     ...       ...   \n36856   AlienWarehouseParty  2023-09-29    250.0   254.77  246.35    250.22   \n36857          ClickF0rDick  2023-09-29    250.0   254.77  246.35    250.22   \n36858              stout365  2023-09-29    250.0   254.77  246.35    250.22   \n36859   AlienWarehouseParty  2023-09-29    250.0   254.77  246.35    250.22   \n36860              stout365  2023-09-29    250.0   254.77  246.35    250.22   \n\n         5. volume  \n0        7580447.0  \n1        7580447.0  \n2        7580447.0  \n3        7580447.0  \n4        7580447.0  \n...            ...  \n36856  128522729.0  \n36857  128522729.0  \n36858  128522729.0  \n36859  128522729.0  \n36860  128522729.0  \n\n[36861 rows x 15 columns]",
      "text/html": "<div>\n<style scoped>\n    .dataframe tbody tr th:only-of-type {\n        vertical-align: middle;\n    }\n\n    .dataframe tbody tr th {\n        vertical-align: top;\n    }\n\n    .dataframe thead th {\n        text-align: right;\n    }\n</style>\n<table border=\"1\" class=\"dataframe\">\n  <thead>\n    <tr style=\"text-align: right;\">\n      <th></th>\n      <th>Title</th>\n      <th>Post ID</th>\n      <th>Author</th>\n      <th>URL</th>\n      <th>Score</th>\n      <th>Comment Count</th>\n      <th>Created</th>\n      <th>Comment Body</th>\n      <th>Comment Author</th>\n      <th>Date</th>\n      <th>1. open</th>\n      <th>2. high</th>\n      <th>3. low</th>\n      <th>4. close</th>\n      <th>5. volume</th>\n    </tr>\n  </thead>\n  <tbody>\n    <tr>\n      <th>0</th>\n      <td>Elon Musk Leaves Presidential Councils</td>\n      <td>6epd1s</td>\n      <td>Litterball</td>\n      <td>https://twitter.com/elonmusk/status/8703699158...</td>\n      <td>9706</td>\n      <td>0</td>\n      <td>2017-06-01 20:21:23</td>\n      <td>realli point stay advisor person take advic</td>\n      <td>Litterball</td>\n      <td>2017-06-01</td>\n      <td>344.0</td>\n      <td>344.88</td>\n      <td>337.29</td>\n      <td>340.37</td>\n      <td>7580447.0</td>\n    </tr>\n    <tr>\n      <th>1</th>\n      <td>Elon Musk Leaves Presidential Councils</td>\n      <td>6epd1s</td>\n      <td>RiseoftheTrumpwaffen</td>\n      <td>https://twitter.com/elonmusk/status/8703699158...</td>\n      <td>496</td>\n      <td>0</td>\n      <td>2017-06-01 20:31:45</td>\n      <td>guess way deal trump work pan</td>\n      <td>RiseoftheTrumpwaffen</td>\n      <td>2017-06-01</td>\n      <td>344.0</td>\n      <td>344.88</td>\n      <td>337.29</td>\n      <td>340.37</td>\n      <td>7580447.0</td>\n    </tr>\n    <tr>\n      <th>2</th>\n      <td>Elon Musk Leaves Presidential Councils</td>\n      <td>6epd1s</td>\n      <td>mirrorsaw</td>\n      <td>https://twitter.com/elonmusk/status/8703699158...</td>\n      <td>913</td>\n      <td>0</td>\n      <td>2017-06-01 20:10:56</td>\n      <td>doubt man would stick word dude wrong</td>\n      <td>mirrorsaw</td>\n      <td>2017-06-01</td>\n      <td>344.0</td>\n      <td>344.88</td>\n      <td>337.29</td>\n      <td>340.37</td>\n      <td>7580447.0</td>\n    </tr>\n    <tr>\n      <th>3</th>\n      <td>Elon Musk Leaves Presidential Councils</td>\n      <td>6epd1s</td>\n      <td>ShanghaiBebop</td>\n      <td>https://twitter.com/elonmusk/status/8703699158...</td>\n      <td>105</td>\n      <td>0</td>\n      <td>2017-06-01 20:20:45</td>\n      <td>wonder much trump actual take advic presidenti...</td>\n      <td>ShanghaiBebop</td>\n      <td>2017-06-01</td>\n      <td>344.0</td>\n      <td>344.88</td>\n      <td>337.29</td>\n      <td>340.37</td>\n      <td>7580447.0</td>\n    </tr>\n    <tr>\n      <th>4</th>\n      <td>Elon Musk Leaves Presidential Councils</td>\n      <td>6epd1s</td>\n      <td>jonb3838</td>\n      <td>https://twitter.com/elonmusk/status/8703699158...</td>\n      <td>35</td>\n      <td>0</td>\n      <td>2017-06-01 23:52:08</td>\n      <td>everi presid want leav stamp america unfortun ...</td>\n      <td>jonb3838</td>\n      <td>2017-06-01</td>\n      <td>344.0</td>\n      <td>344.88</td>\n      <td>337.29</td>\n      <td>340.37</td>\n      <td>7580447.0</td>\n    </tr>\n    <tr>\n      <th>...</th>\n      <td>...</td>\n      <td>...</td>\n      <td>...</td>\n      <td>...</td>\n      <td>...</td>\n      <td>...</td>\n      <td>...</td>\n      <td>...</td>\n      <td>...</td>\n      <td>...</td>\n      <td>...</td>\n      <td>...</td>\n      <td>...</td>\n      <td>...</td>\n      <td>...</td>\n    </tr>\n    <tr>\n      <th>36856</th>\n      <td>Elon: \"Illegal immigration needs to stop, but ...</td>\n      <td>16vj5q0</td>\n      <td>AlienWarehouseParty</td>\n      <td>https://twitter.com/elonmusk/status/1707809181...</td>\n      <td>23</td>\n      <td>0</td>\n      <td>2023-09-29 19:49:18</td>\n      <td>awar need either skill high net worth anoth co...</td>\n      <td>AlienWarehouseParty</td>\n      <td>2023-09-29</td>\n      <td>250.0</td>\n      <td>254.77</td>\n      <td>246.35</td>\n      <td>250.22</td>\n      <td>128522729.0</td>\n    </tr>\n    <tr>\n      <th>36857</th>\n      <td>Elon: \"Illegal immigration needs to stop, but ...</td>\n      <td>16vj5q0</td>\n      <td>ClickF0rDick</td>\n      <td>https://twitter.com/elonmusk/status/1707809181...</td>\n      <td>1</td>\n      <td>0</td>\n      <td>2023-09-29 23:11:50</td>\n      <td>cri italian</td>\n      <td>ClickF0rDick</td>\n      <td>2023-09-29</td>\n      <td>250.0</td>\n      <td>254.77</td>\n      <td>246.35</td>\n      <td>250.22</td>\n      <td>128522729.0</td>\n    </tr>\n    <tr>\n      <th>36858</th>\n      <td>Elon: \"Illegal immigration needs to stop, but ...</td>\n      <td>16vj5q0</td>\n      <td>stout365</td>\n      <td>https://twitter.com/elonmusk/status/1707809181...</td>\n      <td>-3</td>\n      <td>0</td>\n      <td>2023-09-29 19:51:51</td>\n      <td>wait initi comment made think say countri lax ...</td>\n      <td>stout365</td>\n      <td>2023-09-29</td>\n      <td>250.0</td>\n      <td>254.77</td>\n      <td>246.35</td>\n      <td>250.22</td>\n      <td>128522729.0</td>\n    </tr>\n    <tr>\n      <th>36859</th>\n      <td>Elon: \"Illegal immigration needs to stop, but ...</td>\n      <td>16vj5q0</td>\n      <td>AlienWarehouseParty</td>\n      <td>https://twitter.com/elonmusk/status/1707809181...</td>\n      <td>6</td>\n      <td>0</td>\n      <td>2023-09-29 19:52:50</td>\n      <td>bad edit clear</td>\n      <td>AlienWarehouseParty</td>\n      <td>2023-09-29</td>\n      <td>250.0</td>\n      <td>254.77</td>\n      <td>246.35</td>\n      <td>250.22</td>\n      <td>128522729.0</td>\n    </tr>\n    <tr>\n      <th>36860</th>\n      <td>Elon: \"Illegal immigration needs to stop, but ...</td>\n      <td>16vj5q0</td>\n      <td>stout365</td>\n      <td>https://twitter.com/elonmusk/status/1707809181...</td>\n      <td>0</td>\n      <td>0</td>\n      <td>2023-09-29 19:53:36</td>\n      <td>lol good word hard</td>\n      <td>stout365</td>\n      <td>2023-09-29</td>\n      <td>250.0</td>\n      <td>254.77</td>\n      <td>246.35</td>\n      <td>250.22</td>\n      <td>128522729.0</td>\n    </tr>\n  </tbody>\n</table>\n<p>36861 rows × 15 columns</p>\n</div>"
     },
     "execution_count": 50,
     "metadata": {},
     "output_type": "execute_result"
    }
   ],
   "source": [
    "merged_df"
   ],
   "metadata": {
    "collapsed": false,
    "ExecuteTime": {
     "end_time": "2023-10-13T06:34:38.822295Z",
     "start_time": "2023-10-13T06:34:38.818063Z"
    }
   },
   "id": "357f4dacc7196dfb"
  }
 ],
 "metadata": {
  "kernelspec": {
   "display_name": "Python 3",
   "language": "python",
   "name": "python3"
  },
  "language_info": {
   "codemirror_mode": {
    "name": "ipython",
    "version": 2
   },
   "file_extension": ".py",
   "mimetype": "text/x-python",
   "name": "python",
   "nbconvert_exporter": "python",
   "pygments_lexer": "ipython2",
   "version": "2.7.6"
  }
 },
 "nbformat": 4,
 "nbformat_minor": 5
}
